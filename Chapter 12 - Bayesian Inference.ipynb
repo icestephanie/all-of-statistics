{
 "cells": [
  {
   "cell_type": "markdown",
   "metadata": {},
   "source": [
    "## 12. Bayesian Inference"
   ]
  },
  {
   "cell_type": "markdown",
   "metadata": {},
   "source": [
    "### 12.1 Bayesian Philosophy"
   ]
  },
  {
   "cell_type": "markdown",
   "metadata": {},
   "source": [
    "Postulates of **frequentist (or classical)** inference:\n",
    "\n",
    "- Probabilty refers to limiting relative frequencies.  Probabilities are objective properties of the real world.\n",
    "- Parameters are fixed, usually unknown constants.  Because they are not fluctuating, no probability statements can be made about parameters.\n",
    "- Statistical procedures should be designed to have well defined long run frequency properties.  For example, a 95% confidence interval should trap the true value of the parameter with limiting frequency at least 95%."
   ]
  },
  {
   "cell_type": "markdown",
   "metadata": {},
   "source": [
    "Postulates of **Bayesian** inference:\n",
    "\n",
    "- Probability indicates degrees of belief, not limiting frequency.  As such, we can make probability statements about lots of things, not just data which are subject to random variation.  For example, I might say that 'the probability that Albert Einstein drank a cup of tea on August 1 1948 is 35%'.  This does not refer to limiting frequency.  It reflects my strength of belief that the proposition is true.\n",
    "- We can make probability statements about parameters, even though they are fixed constants.\n",
    "- We can make inferences about a parameter $\\theta$, by producing a probability distribution for $\\theta$.  Inferences, such as point estimates and interval estimates, may then be extracted from this distribution."
   ]
  },
  {
   "cell_type": "markdown",
   "metadata": {},
   "source": [
    "### 12.2 The Bayesian Method"
   ]
  },
  {
   "cell_type": "markdown",
   "metadata": {},
   "source": [
    "Bayesian inference is usually carried out in the following way:\n",
    "\n",
    "1. Choose a probability density $f(\\theta)$ -- called the **prior distribution** -- that expresses our degrees of belief about a parameter $\\theta$ before we see any data.\n",
    "\n",
    "2. We choose a statistical model $f(x | \\theta)$ that reflects our beliefs about $x$ given $\\theta$.\n",
    "\n",
    "3. After observing data $X_1, \\dots, X_n$, we update our beliefs and form the **posterior distribution** $f(\\theta | X_1, \\dots, X_n)$."
   ]
  },
  {
   "cell_type": "markdown",
   "metadata": {},
   "source": [
    "Bayesian update:\n",
    "\n",
    "$$f(\\theta | x^n) = \\frac{f(x^n | \\theta) f(\\theta)}{\\int f(x^n | \\theta) f(\\theta) d\\theta} \n",
    "= \\frac{\\mathcal{L}_n(\\theta) f(\\theta)}{\\int \\mathcal{L}_n f(\\theta) d\\theta}\n",
    "\\propto \\mathcal{L}_n(\\theta) f(\\theta)$$\n",
    "\n",
    "We throw away the denominator, which is a constant that does not depend on $\\theta$, called a **normalizing constant**.  We can summarize this by writing:\n",
    "\n",
    "$$ \\text{\"posterior is proportional to likelihood times prior\"} $$"
   ]
  },
  {
   "cell_type": "markdown",
   "metadata": {},
   "source": [
    "We can obtain a **point estimate** using the posterior mean:\n",
    "\n",
    "$$ \\overline{\\theta} = \\int \\theta f(\\theta | x^n) d\\theta = \\frac{\\int \\theta \\mathcal{L}_n(\\theta) f(\\theta)}{\\int \\mathcal{L}_n(\\theta) f(\\theta) d\\theta}$$"
   ]
  },
  {
   "cell_type": "markdown",
   "metadata": {},
   "source": [
    "We can also obtain a Bayesian interval estimate. Define $a$ and $b$ by $ \\int_{-\\infty}^a f(\\theta | x^n) d\\theta = \\int_b^\\infty f(\\theta | x^n) d\\theta = \\alpha / 2$.  Let $C = (a, b)$.  Then\n",
    "\n",
    "$$\\mathbb{P}(\\theta \\in C | x^n) = \\int_a^b f(\\theta | x^n) d\\theta = 1 - \\alpha$$\n",
    "\n",
    "so **$C$ is a $1 - \\alpha$ posterior interval**."
   ]
  },
  {
   "cell_type": "markdown",
   "metadata": {},
   "source": [
    "When the prior and the posterior are in the same family, we say the prior is **conjugate**."
   ]
  },
  {
   "cell_type": "markdown",
   "metadata": {},
   "source": [
    "### 12.3 Functions of Parameters"
   ]
  },
  {
   "cell_type": "markdown",
   "metadata": {},
   "source": [
    "The posterior CDF for $\\tau = g(\\theta)$ is\n",
    "\n",
    "$$ H(\\tau | x^n) = \\mathbb{P}(g(\\theta) \\leq \\tau) = \\int_A f(\\theta | x^n) d\\theta$$\n",
    "\n",
    "where $A = \\{ \\theta : g(\\theta) \\leq \\tau \\}$.  The posterior density is $h(\\tau | x^n) = H'(\\tau | x^n)$."
   ]
  },
  {
   "cell_type": "markdown",
   "metadata": {},
   "source": [
    "### 12.4 Simulation"
   ]
  },
  {
   "cell_type": "markdown",
   "metadata": {},
   "source": [
    "The posterior can often be approximated by simulation.  Suppose we draw $\\theta_1, \\dots, \\theta_B \\sim p(\\theta | x^n)$.  Then a histogram of $\\theta_1, \\dots, \\theta_n$ approximates the posterior density $p(\\theta | x^n)$.  An approximation to the posterior mean $\\overline{\\theta}_n = \\mathbb{E}(\\theta | x^n)$ is $B^{-1} \\sum_{j=1}^B \\theta_j$.  The posterior $1 - \\alpha$ interval can be approximated by $(\\theta_{\\alpha/2}, \\theta_{1 - \\alpha/2})$ where $\\theta_{\\alpha/2}$ is the $\\alpha/2$ sample quantile of $\\theta_1, \\dots, \\theta_B$.\n",
    "\n",
    "Once we have a sample $\\theta_1, \\dots, \\theta_B$ from $f(\\theta | x^n)$, let $\\tau_i = g(\\theta_i)$.  Then $\\tau_1, \\dots, \\tau_B$ is a sample from $f(\\tau | x^n)$.  This avoids the need to do analytical calculations.  Simulation is discussed in more detail later in the book."
   ]
  },
  {
   "cell_type": "markdown",
   "metadata": {},
   "source": [
    "### 12.5 Large Sample Properties for Bayes' Procedures"
   ]
  },
  {
   "cell_type": "markdown",
   "metadata": {},
   "source": [
    "**Theorem 12.5**. Under appropriate regularity conditions, we have that the posterior is approximately $N(\\hat{\\theta}, \\hat{\\text{se}}^2)$ where $\\hat{\\theta}_n$ is the MLE and $\\hat{\\text{se}} = 1 / \\sqrt{nI(\\hat{\\theta}_n)}$.  Hence, $\\overline{\\theta}_n \\approx \\hat{\\theta}_n$.  Also, if $C_n = (\\hat{\\theta}_n - z_{\\alpha/2} \\hat{\\text{se}}, \\hat{\\theta}_n + z_{\\alpha/2} \\hat{\\text{se}})$ is the asymptotic frequentist $1 - \\alpha$ confidence interval, then $C_n$ is also an approximate $1 - \\alpha$ Bayesian posterior interval:\n",
    "\n",
    "$$\\mathbb{P}(\\theta \\in C_n | X^n) \\rightarrow 1 - \\alpha$$"
   ]
  },
  {
   "cell_type": "markdown",
   "metadata": {},
   "source": [
    "There is also a **Bayesian delta method**.  Let $\\tau = g(\\theta)$.  Then\n",
    "\n",
    "$$ \\tau | X^n \\approx N(\\hat{\\tau}, \\overline{\\text{se}}^2)$$\n",
    "\n",
    "where $\\hat{\\tau} = g(\\hat{\\theta})$ and $\\overline{\\text{se}} = \\text{se} | g'(\\hat{\\theta}) |$."
   ]
  },
  {
   "cell_type": "markdown",
   "metadata": {},
   "source": [
    "### 12.6 Flat Priors, Improper Priors and \"Noninformative\" Priors"
   ]
  },
  {
   "cell_type": "markdown",
   "metadata": {},
   "source": [
    "**Improper priors**.  We can adopt a flat prior $f(\\theta) \\propto c$ where $c > 0$ is a constant.  Note that $\\int f(\\theta) d\\theta = \\infty$ so this is not a real probability density function in a proper sense. We call such prior an improper prior.  In general, improper priors are not a problem as long as the resulting posterior is a well defined probability distribution."
   ]
  },
  {
   "cell_type": "markdown",
   "metadata": {},
   "source": [
    "**Flat priors are not invariant**.  The notion of a flat prior is not well-defined because a flat prior on a parameter does not imply a flat prior ron a transformed version of a parameter."
   ]
  },
  {
   "cell_type": "markdown",
   "metadata": {},
   "source": [
    "**Jeffreys' prior**.  Take $f(\\theta) \\propto I(\\theta)^{1/2}$ where $I(\\theta)$ is the Fisher information function.  This rule turns out to be transformation invariant.\n",
    "\n",
    "In a multiparameter problem, the Jeffreys' prior is defined to be $f(\\theta) \\propto \\sqrt{\\text{det} I(\\theta)}$, where $\\text{det}(A)$ denotes the determinant of a matrix $A$."
   ]
  },
  {
   "cell_type": "markdown",
   "metadata": {},
   "source": [
    "### 12.7 Multiparameter Problems"
   ]
  },
  {
   "cell_type": "markdown",
   "metadata": {},
   "source": [
    "Suppose that $\\theta = (\\theta_1, \\dots, \\theta_p)$.  The posterior density is still given by\n",
    "\n",
    "$$p(\\theta | x^n) \\propto \\mathcal{L}(\\theta) f(\\theta)$$\n",
    "\n",
    "Suppose we want to make inferences for $\\theta_1$.  The marginal posterior for $\\theta_1$ is\n",
    "\n",
    "$$ f(\\theta_1 | x^n) = \\int \\cdots \\int f(\\theta_1, \\dots, \\theta_p) d\\theta_2 \\dots d\\theta_p$$\n",
    "\n",
    "In practice, it might not be feasible to do this integral.  Simulation can help.  Draw randomly from the posterior:\n",
    "\n",
    "$$\\theta^1, \\dots, \\theta^B \\sim f(\\theta | x^n)$$\n",
    "\n",
    "where the superscripts index the different draws; each $\\theta^j$ is a vector $\\theta^j = (\\theta^j_1, \\dots, \\theta^j_p)$.  Now collect together the first component of each draw:\n",
    "\n",
    "$$\\theta^1_1, \\dots, \\theta^B_1$$\n",
    "\n",
    "These form a sample from $f(\\theta_1 | x^n)$ and we have avoided doing any integrals."
   ]
  },
  {
   "cell_type": "markdown",
   "metadata": {},
   "source": [
    "### 12.8 Strenghts and Weaknesses of Bayesian Inference"
   ]
  },
  {
   "cell_type": "markdown",
   "metadata": {},
   "source": [
    "Frequentist and Bayesian methods are answering different questions:\n",
    "\n",
    "- To combine prior beliefs with data in a principled way, use bayesian inference.\n",
    "- To construct procedures with guaranteed long run performance, such as confidence intervals, use frequentist methods."
   ]
  },
  {
   "cell_type": "markdown",
   "metadata": {},
   "source": [
    "### 12.9 Appendix"
   ]
  },
  {
   "cell_type": "markdown",
   "metadata": {},
   "source": [
    "**Proof of Theorem 12.5**.\n",
    "\n",
    "It can be shown that the effect of the prior diminishes as $n$ increases so that $f(\\theta | X^n) \\propto \\mathcal{L}_n(\\theta)f(\\theta) \\approx \\mathcal{L}_n(\\theta)$.  Hence, $\\log f(\\theta | X^n) \\approx \\ell(\\theta)$.  Now, $\\ell(\\theta) \\approx \\ell(\\hat{\\theta}) + (\\theta - \\hat{\\theta})\\ell'(\\hat{\\theta}) + [(\\theta - \\hat{\\theta})^2/2]\\ell''(\\hat{\\theta}) = \\ell(\\hat{\\theta}) + [(\\theta - \\hat{\\theta})^2/2] \\ell''(\\hat{\\theta})$ since $\\ell'(\\hat{\\theta}) = 0$.  Exponentiating, we get approximately that\n",
    "\n",
    "$$ f(\\theta | X^n) \\propto \\exp \\left\\{ - \\frac{1}{2} \\frac{(\\theta - \\hat{\\theta})^2}{\\sigma_n^2} \\right\\} $$\n",
    "\n",
    "where $\\sigma_n^2 = 1 / \\ell''(\\hat{\\theta}_n)$.  So the posterior of $\\theta$ is approximately Normal with mean $\\hat{\\theta}$ and variance $\\sigma^2_n$.  Let $\\ell_i = \\log f(X_i | \\theta)$, then\n",
    "\n",
    "$$\n",
    "\\begin{align}\n",
    "\\sigma_n^{-2} &= -\\ell''(\\hat{\\theta}_n) = \\sum_i -\\ell''_i(\\hat{\\theta}_n) \\\\\n",
    "&= n \\left( \\frac{1}{n} \\right) \\sum_i -\\ell''_i(\\hat{\\theta}_n) \\approx n \\mathbb{E}\\left[-\\ell''_i(\\hat{\\theta}_n)\\right] \\\\\n",
    "&= n I(\\hat{\\theta}_n)\n",
    "\\end{align}\n",
    "$$\n",
    "\n",
    "and hence $\\sigma_n \\approx \\text{se}(\\hat{\\theta})$."
   ]
  },
  {
   "cell_type": "markdown",
   "metadata": {},
   "source": [
    "### 12.11 Exercises"
   ]
  },
  {
   "cell_type": "markdown",
   "metadata": {},
   "source": [
    "**Exercise 12.11.1**.  Verify (12.5).\n",
    "\n",
    "*Let $X_1, \\dots, X_n \\sim N(\\theta, \\sigma^2)$.  For simplicity, let us assume that $\\sigma$ is known.  Suppose that we take as a prior $\\theta \\sim N(a, b^2)$.  In problem 1 of the homework, it is shown that the posterior for $\\theta$ is* \n",
    "\n",
    "$$\\theta | X^n \\sim N(\\overline{\\theta}, \\tau^2)$$\n",
    "\n",
    "*where*\n",
    "\n",
    "$$\\overline{\\theta} = w \\overline{X} + (1 - w) a$$\n",
    "\n",
    "*where*\n",
    "\n",
    "$$w = \\frac{\\frac{1}{\\text{se}^2}}{\\frac{1}{\\text{se}^2} + \\frac{1}{\\text{b}^2}} \\quad \\text{and} \\quad \\frac{1}{\\tau^2} = \\frac{1}{\\text{se}^2} + \\frac{1}{b^2}$$\n",
    "\n",
    "*and $\\text{se} = \\sigma / \\sqrt{n}$ is the standard error of the MLE $\\overline{X}$.*"
   ]
  },
  {
   "cell_type": "markdown",
   "metadata": {},
   "source": [
    "**Solution**.\n",
    "\n",
    "The posterior is proportional to the likelihood times the prior:\n",
    "\n",
    "$$ p(\\theta | x^n) \\propto \\mathcal{L}_n(\\theta) f(\\theta)$$\n",
    "\n",
    "The likelihood is the product of $n$ Normal PDFs evaluated at different data points:\n",
    "\n",
    "$$ \n",
    "\\mathcal{L}_n(\\theta) = \\prod_{i=1}^n f_X(X_i, \\theta)\n",
    "$$\n",
    "\n",
    "Looking at the case $n = 2$:\n",
    "\n",
    "$$\n",
    "\\begin{align} \n",
    "f(X_1, \\theta) f(X_2, \\theta) &= \n",
    "\\frac{1}{\\sigma \\sqrt{2 \\pi}} \\exp \\left\\{-\\frac{1}{2} \\left(\\frac{X_1 - \\mu}{\\sigma} \\right)^2 \\right\\}\n",
    "\\frac{1}{\\sigma \\sqrt{2 \\pi}} \\exp \\left\\{-\\frac{1}{2} \\left(\\frac{X_2 - \\mu}{\\sigma} \\right)^2 \\right\\} \\\\\n",
    "&= \\left( \\frac{1}{\\sigma \\sqrt{2 \\pi}} \\right)^2 \\exp \\left\\{-\\frac{1}{2\\sigma^2} \\left((X_1 - \\mu)^2 + (X_2 - \\mu)^2 \\right) \\right\\} \\\\\n",
    "&= \\left( \\frac{1}{\\sigma \\sqrt{2 \\pi}} \\right)^2 \\exp \\left\\{-\\frac{1}{2\\sigma^2} \\left(\n",
    "X_1^2 + 2 X_1 X_2 + X_2^2 - 2 (X_1 + X_2)\\mu + 2\\mu^2 - 2 X_1 X_2\n",
    "\\right) \\right\\} \\\\\n",
    "&= \\left( \\frac{1}{\\sigma \\sqrt{2 \\pi}} \\right)^2 \\exp \\left\\{-\\frac{1}{\\sigma^2}\\left(\n",
    "\\left(\\mu - \\frac{X_1 + X_2}{2}\\right)^2 + \\left(\\frac{X_1 + X_2}{2}\\right)^2 - X_1 X_2\n",
    "\\right) \\right\\} \\\\\n",
    "&= \\left( \\frac{1}{\\sigma \\sqrt{2 \\pi}} \\right)^2 \\exp \\left\\{-\\frac{1}{2} \\left(\n",
    "\\frac{\\left(\\mu - \\frac{X_1 + X_2}{2}\\right)^2 + \\left(\\frac{X_1 + X_2}{2}\\right)^2 - X_1 X_2}{\\sigma^2 / 2}\n",
    "\\right) \\right\\} \\\\\n",
    "&= \\left( \\frac{1}{\\sigma \\sqrt{2 \\pi}} \\right)^2 \\exp \\left\\{-\\frac{1}{2} \\left(\n",
    "\\frac{\\left(\\mu - \\frac{X_1 + X_2}{2}\\right)^2}{\\sigma^2 / 2} + C\n",
    "\\right) \\right\\} \\\\\n",
    "&\\propto \\exp \\left\\{-\\frac{1}{2}\n",
    "\\left(\\frac{\\mu - \\frac{X_1 + X_2}{2}}{\\sigma / \\sqrt{2}}\\right)^2\n",
    "\\right\\}\n",
    "\\end{align}\n",
    "$$\n",
    "\n",
    "The exponent is a quadratic form in $\\mu$, and that makes this expression is proportional to the PDF of a Normal with mean $\\mu$ and standard error $\\sigma / \\sqrt{2}$, observed at the mean, $X = (X_1 + X_2)/2$."
   ]
  },
  {
   "cell_type": "markdown",
   "metadata": {},
   "source": [
    "This strongly suggests that, for the general case, the product is proportional to the PDF of a Normal with mean $\\mu$ and standard error $\\sigma / \\sqrt{n}$, observed at the mean, $X = n^{-1} \\sum_{i=1}^n X_i$.  We can prove it by induction, going through similar steps:\n",
    "\n",
    "$$\n",
    "\\begin{align} \n",
    "f((X_1, \\dots, X_n), \\theta_n) f(X_{n+1}, \\theta) &= \n",
    "\\frac{1}{\\sigma_n \\sqrt{2 \\pi}} \\exp \\left\\{-\\frac{1}{2} \\left(\\frac{\\overline{X}_n - \\mu}{\\sigma_n} \\right)^2 \\right\\}\n",
    "\\frac{1}{\\sigma \\sqrt{2 \\pi}} \\exp \\left\\{-\\frac{1}{2} \\left(\\frac{X_{n+1} - \\mu}{\\sigma} \\right)^2 \\right\\} \\\\\n",
    "&\\propto \\exp \\left\\{-\\frac{1}{2} \\left( \\left(\\frac{\\overline{X}_n - \\mu}{\\sigma_n} \\right)^2 + \\left(\\frac{X_{n+1} - \\mu}{\\sigma} \\right)^2 \\right) \\right\\} \\\\\n",
    "&= \\exp \\left\\{-\\frac{1}{2} \\left( n \\left(\\frac{\\overline{X}_n - \\mu}{\\sigma} \\right)^2 + \\left(\\frac{X_{n+1} - \\mu}{\\sigma} \\right)^2 \\right) \\right\\} \\\\\n",
    "&= \\exp \\left\\{-\\frac{1}{2 \\sigma^2} \\left( n \\left(\\overline{X}_n - \\mu\\right)^2 + \\left(X_{n+1} - \\mu \\right)^2 \\right) \\right\\} \\\\\n",
    "&\\propto \\exp \\left\\{-\\frac{1}{2} \\left( \\frac{\\mu - (n\\overline{X}_n + X_{n+1})}{\\sigma / \\sqrt{n+1}} \\right)^2 \\right\\}\n",
    "= \\exp \\left\\{-\\frac{1}{2}\n",
    "\\left(\\frac{\\mu - \\overline{X}_{n+1}}{\\sigma / \\sqrt{n+1}}\\right)^2\n",
    "\\right\\}\n",
    "\\end{align}\n",
    "$$"
   ]
  },
  {
   "cell_type": "markdown",
   "metadata": {},
   "source": [
    "Finally, we just need to prove one final result -- that the product of the likelihood and the prior, both of which are PDFs of normals, is proportional to yet another normal, with the parameters given.   The steps are again similar -- except now we are completing the squares in $\\theta$, rather than $\\mu$, as each PDF has distinct mean ($\\overline{X}$ and $a$) and standard error ($\\text{se}$ and $b$).\n",
    "\n",
    "$$\n",
    "\\begin{align}\n",
    "\\mathcal{L}_n(\\theta) f(\\theta) \n",
    "&= \\frac{1}{\\text{se} \\sqrt{2 \\pi}} \\exp \\left\\{-\\frac{1}{2} \\left(\\frac{\\overline{X} - \\theta}{\\text{se}}\\right)^2 \\right\\} \\frac{1}{b \\sqrt{2 \\pi}} \\exp \\left\\{-\\frac{1}{2} \\left( \\frac{a - \\theta}{b} \\right)^2 \\right\\} \\\\\n",
    "& \\propto \\exp \\left\\{-\\frac{1}{2} \\left( \\left(\\frac{\\overline{X} - \\theta}{\\text{se}}\\right)^2 + \\left( \\frac{a - \\theta}{b} \\right)^2 \\right) \\right\\} \\\\\n",
    "& \\propto \\exp \\left\\{-\\frac{1}{2} \\left( \\frac{\\overline{\\theta} - \\theta}{\\tau} \\right)^2 \\right\\}\n",
    "\\end{align}\n",
    "$$\n",
    "\n",
    "which is the desired result.\n",
    "\n",
    "An **excruciatingly complete** derivation of the results used here -- products of Normal PDFs are proportional to Normal PDFs -- and more general versions of it can be seen in Bromiley, Paul. \"Products and convolutions of Gaussian probability density functions.\" Tina-Vision Memo 3.4 (2003): 1, which is available online."
   ]
  },
  {
   "cell_type": "markdown",
   "metadata": {},
   "source": [
    "**Exercise 12.11.2**.  Let $X_1, \\dots, X_n \\sim N(\\mu, 1)$.\n",
    "\n",
    "**(a)** Simulate a dataset (using $\\mu = 5$) consisting of $n = 100$ observations.\n",
    "\n",
    "**(b)** Take $f(\\mu) = 1$ and find the posterior density.  Plot the density.\n",
    "\n",
    "**(c)** Simulate 1000 draws from the posterior.  Plot a histogram of the simulated values and compare the histogram to the answer in (b).\n",
    "\n",
    "**(d)** Let $\\theta = e^\\mu$.  Find the posterior density for $\\theta$ analytically and by simulation.\n",
    "\n",
    "**(e)** Find a 95% posterior interval for $\\theta$.\n",
    "\n",
    "**(f)** Find a 95% confidence interval for $\\theta$."
   ]
  },
  {
   "cell_type": "markdown",
   "metadata": {},
   "source": [
    "**Solution**.\n",
    "\n",
    "**(a)**"
   ]
  },
  {
   "cell_type": "code",
   "execution_count": 17,
   "metadata": {},
   "outputs": [],
   "source": [
    "import numpy as np\n",
    "from scipy.stats import norm\n",
    "\n",
    "import matplotlib.pyplot as plt\n",
    "\n",
    "n = 100\n",
    "mu = 5\n",
    "sigma = 1\n",
    "X = norm.rvs(loc=mu, scale=sigma, size=n)"
   ]
  },
  {
   "cell_type": "markdown",
   "metadata": {},
   "source": [
    "**(b)**  The posterior is proportional to likelihood times the prior:\n",
    "\n",
    "$$f(\\mu | X^n) \\propto \\mathcal{L}_n(\\mu) f(\\mu) = \\mathcal{L}_n(\\mu)$$\n",
    "\n",
    "But the likelihood is the product of the PDFs for each data point:\n",
    "\n",
    "$$\\mathcal{L}_n(\\mu) = \\prod_{i=1}^n f(X_i; \\mu)$$\n",
    "\n",
    "We can plot this with \"brute force\" -- calculating this product for each sample point -- or use the analytic result that the likelihood is proportional to a random variable following a Normal distribution in $\\mu$ with mean $\\hat{\\mu} = \\overline{X}$ and standard error $\\sigma / \\sqrt{n}$:\n",
    "\n",
    "$$\\mathcal{L}_n(\\mu) \\propto N(\\overline{X}, \\sigma^2 / n)$$"
   ]
  },
  {
   "cell_type": "code",
   "execution_count": 18,
   "metadata": {},
   "outputs": [],
   "source": [
    "# posterior is proportional to likelihood times f(\\mu)\n",
    "# likelihood is \\prod_i f(X_i; \\mu)\n",
    "# pdf is f(x; (\\mu, \\sigma^2)), the density of the normal function\n",
    "\n",
    "mu_hat = X.mean()\n",
    "mu_values = np.linspace(4, 6, 100)"
   ]
  },
  {
   "cell_type": "code",
   "execution_count": 19,
   "metadata": {},
   "outputs": [
    {
     "data": {
      "image/png": "[encoded data removed]",
      "text/plain": [
       "<Figure size 432x288 with 1 Axes>"
      ]
     },
     "metadata": {
      "needs_background": "light"
     },
     "output_type": "display_data"
    }
   ],
   "source": [
    "# Brute-force solution: explicitly compute the PDF for each sample, and multiply everything \n",
    "# (or take logs, add, and exponentiate):\n",
    "likelihood = np.vectorize(lambda mu_hat: np.exp(np.log(norm.pdf(X, loc=mu_hat, scale=sigma)).sum()))\n",
    "L_i = likelihood(mu_values)\n",
    "\n",
    "plt.plot(mu_values, L_i / L_i.sum());"
   ]
  },
  {
   "cell_type": "code",
   "execution_count": 20,
   "metadata": {},
   "outputs": [
    {
     "data": {
      "image/png": "[encoded data removed]",
      "text/plain": [
       "<Figure size 432x288 with 1 Axes>"
      ]
     },
     "metadata": {
      "needs_background": "light"
     },
     "output_type": "display_data"
    }
   ],
   "source": [
    "# Alternatively, use the analytic solution, \\mathcal{L}_n(\\mu) \\sim N(\\mu_hat, \\sigma^2/n)\n",
    "\n",
    "L_i2 = norm.pdf(mu_values, loc=mu_hat, scale=sigma/np.sqrt(n))\n",
    "\n",
    "plt.plot(mu_values, L_i2 / L_i2.sum());"
   ]
  },
  {
   "cell_type": "markdown",
   "metadata": {},
   "source": [
    "**(c)**"
   ]
  },
  {
   "cell_type": "code",
   "execution_count": 21,
   "metadata": {},
   "outputs": [
    {
     "data": {
      "image/png": "[encoded data removed]",
      "text/plain": [
       "<Figure size 432x288 with 2 Axes>"
      ]
     },
     "metadata": {
      "needs_background": "light"
     },
     "output_type": "display_data"
    }
   ],
   "source": [
    "fig, (ax1,ax2) = plt.subplots(2, 1, sharex='col')\n",
    "ax1.plot(mu_values, L_i2 / L_i2.sum())\n",
    "\n",
    "posterior_samples = norm.rvs(loc=mu_hat, scale=sigma/np.sqrt(n), size=1000)\n",
    "ax2.hist(posterior_samples, density=True, bins=mu_values);"
   ]
  },
  {
   "cell_type": "markdown",
   "metadata": {},
   "source": [
    "**(d)**\n",
    "\n",
    "Analytically:\n",
    "\n",
    "- The CDF is $F_\\theta(\\theta |X^n) = \\mathbb{P}_\\theta(e^\\mu \\leq \\theta |X^n) = \\mathbb{P}_\\mu(\\mu \\leq \\log \\theta |X^n) = \\mathbb{P}_\\mu \\left( \\frac{\\mu - \\overline{X}}{\\sigma / \\sqrt{n}} \\leq \\frac{\\log \\theta - \\overline{X}}{\\sigma / \\sqrt{n}} \\right) = \\Phi(10\\log \\theta - 10\\overline{X})$, where $\\Phi$ is the CDF of a standard normal distribution.\n",
    "- The PDF is $f_\\theta(\\theta) = F'_\\theta(\\theta) = \\frac{\\partial \\Phi(10\\log \\theta - 10\\overline{X})}{\\partial \\theta} = \\frac{10}{\\theta} \\phi(10\\log \\theta - 10\\overline{X}) $, where $\\phi = \\Phi'$ is the PDF of a standard normal function."
   ]
  },
  {
   "cell_type": "code",
   "execution_count": 22,
   "metadata": {},
   "outputs": [
    {
     "data": {
      "image/png": "[encoded data removed]",
      "text/plain": [
       "<Figure size 432x288 with 1 Axes>"
      ]
     },
     "metadata": {
      "needs_background": "light"
     },
     "output_type": "display_data"
    }
   ],
   "source": [
    "def posterior_density(z):\n",
    "    # Suppress warnings about log(z) when z < 0 and division by zero \n",
    "    # np.where will filter out invalid values\n",
    "    with np.errstate(divide='ignore', invalid='ignore'):\n",
    "        return np.where(z > 0, (10/z) * norm.pdf(10*np.log(z) - 10*mu_hat), 0)\n",
    "    \n",
    "z_values = np.linspace(50, 300, 100)\n",
    "f_values = posterior_density(z_values)\n",
    "\n",
    "plt.plot(z_values, f_values);"
   ]
  },
  {
   "cell_type": "code",
   "execution_count": 23,
   "metadata": {},
   "outputs": [
    {
     "data": {
      "text/plain": [
       "<matplotlib.legend.Legend at 0x23a01e51d90>"
      ]
     },
     "execution_count": 23,
     "metadata": {},
     "output_type": "execute_result"
    },
    {
     "data": {
      "image/png": "[encoded data removed]",
      "text/plain": [
       "<Figure size 864x576 with 1 Axes>"
      ]
     },
     "metadata": {
      "needs_background": "light"
     },
     "output_type": "display_data"
    }
   ],
   "source": [
    "# By simulation:\n",
    "\n",
    "# Resample from the estimated parametric distribution for X, and calculate Y = exp(X)\n",
    "Y = np.exp(posterior_samples)\n",
    "\n",
    "plt.figure(figsize=(12,8))\n",
    "plt.plot(z_values, f_values, label='Posterior density', color='red')\n",
    "plt.hist(Y, density=True, bins=z_values, label='Simulation histogram', histtype='step', color='blue')\n",
    "plt.legend()"
   ]
  },
  {
   "cell_type": "markdown",
   "metadata": {},
   "source": [
    "**(e)**\n",
    "\n",
    "For the Bayesian(posterior) interval estimate, we need to find $C = (a, b)$ such that\n",
    "\n",
    "$$ \\int_{-\\infty}^a f_Y(\\theta | X^n) d\\theta = \\int_b^\\infty f_Y(\\theta | X^n) d\\theta = \\frac{\\alpha}{2}$$\n",
    "\n",
    "or, using the cumulative density functions,\n",
    "\n",
    "$$ F_Y(a) = 1 - F_Y(b) = \\frac{\\alpha}{2}$$\n",
    "\n",
    "$$\\Phi(10\\log a - 10\\overline{X}) = 1 - \\Phi(10\\log b - 10\\overline{X}) = \\frac{\\alpha}{2}$$\n",
    "\n",
    "Solving for $a$ and $b$,\n",
    "\n",
    "$$\n",
    "a = e^{\\overline{X} + \\frac{\\Phi^{-1}(\\alpha / 2)}{10}}\n",
    "\\quad \\text{and} \\quad\n",
    "b = e^{\\overline{X} + \\frac{\\Phi^{-1}(1 - \\alpha / 2)}{10}}\n",
    "$$\n",
    "\n",
    "Or an alternative analytical solution:  $\\theta = g(\\mu) = e^\\mu$ and $\\mu \\sim N(\\overline{X}, 1/\\sqrt{n})$.  Since $g$ is a monotonically increasing function, the quantiles of $\\theta$ are the exponentials of the quantiles of $\\mu$; that is,\n",
    "\n",
    "$$F_\\theta^{-1}(q) = g(F_\\mu^{-1}(q)) = e^{F_\\mu^{-1}(q)}$$\n",
    "\n",
    "$$\n",
    "\\begin{align}\n",
    "F_\\mu^{-1}(q) &= \\overline{X} + \\frac{\\Phi^{-1}(q)}{10} \\\\\n",
    "F_\\theta^{-1}(q) &= e^{\\overline{X}+\\frac{\\Phi^{-1}(q)}{10}}\n",
    "\\end{align}\n",
    "$$"
   ]
  },
  {
   "cell_type": "code",
   "execution_count": 24,
   "metadata": {},
   "outputs": [
    {
     "name": "stdout",
     "output_type": "stream",
     "text": [
      "95% posterior interval (analytic):  135.015, 199.813\n"
     ]
    }
   ],
   "source": [
    "from scipy.stats import norm\n",
    "\n",
    "z_025 = norm.ppf(0.025)\n",
    "z_975 = norm.ppf(0.975)\n",
    "\n",
    "posterior_interval_analytic = (np.exp(z_025/np.sqrt(n) + mu_hat), np.exp(z_975/np.sqrt(n) + mu_hat))\n",
    "print(\"95%% posterior interval (analytic):  %.3f, %.3f\" % posterior_interval_analytic)"
   ]
  },
  {
   "cell_type": "markdown",
   "metadata": {},
   "source": [
    "Alternatively, we can just sample from our simulation draws to get an approximation:"
   ]
  },
  {
   "cell_type": "code",
   "execution_count": 25,
   "metadata": {},
   "outputs": [
    {
     "name": "stdout",
     "output_type": "stream",
     "text": [
      "95% posterior interval (simulation):  135.862, 205.358\n"
     ]
    }
   ],
   "source": [
    "# Find percentile from simulated draws\n",
    "\n",
    "posterior_interval_simulation = (\n",
    "    np.quantile(Y, 0.025),\n",
    "    np.quantile(Y, 0.975)\n",
    ")\n",
    "\n",
    "print(\"95%% posterior interval (simulation):  %.3f, %.3f\" % posterior_interval_simulation)"
   ]
  },
  {
   "cell_type": "markdown",
   "metadata": {},
   "source": [
    "**(f)**\n",
    "\n",
    "Confidence interval for $\\theta = e^\\mu$ under frequentist approach:\n",
    "\n",
    "Since $\\hat{\\mu}=\\overline{X}$ is $mle$ $\\sim N(\\overline{X}, \\frac{\\sigma^2}{n})$, $e^\\hat{\\mu}$ is also $mle$ (equivariance) $\\sim N(e^\\hat{\\mu}, (e^\\hat{\\mu}\\hat{se})^2)$ under delta method where $\\hat{se}=\\frac{\\sigma}{\\sqrt{n}}$.\n",
    "\n",
    "Confidence interval is $(e^\\hat{\\mu}-z_\\frac{\\alpha}{2}e^\\hat{\\mu}\\hat{se}, \\  e^\\hat{\\mu}+z_\\frac{\\alpha}{2}e^\\hat{\\mu}\\hat{se})$"
   ]
  },
  {
   "cell_type": "code",
   "execution_count": 27,
   "metadata": {},
   "outputs": [
    {
     "name": "stdout",
     "output_type": "stream",
     "text": [
      "95% confidence interval: (132.057, 196.441)\n"
     ]
    }
   ],
   "source": [
    "conf_int = (np.exp(mu_hat) + z_025 * np.exp(mu_hat) / np.sqrt(n),  \\\n",
    "            np.exp(mu_hat) + z_975 * np.exp(mu_hat) / np.sqrt(n))\n",
    "\n",
    "print('95%% confidence interval: (%.3f, %.3f)' %conf_int)"
   ]
  },
  {
   "cell_type": "markdown",
   "metadata": {},
   "source": [
    "**Exercise 12.11.3**.  Let $X_1, \\dots, X_n \\sim \\text{Uniform}(0, \\theta)$.  Let $f(\\theta) \\propto 1/\\theta$.  Find the posterior density."
   ]
  },
  {
   "cell_type": "markdown",
   "metadata": {},
   "source": [
    "**Solution**.  The posterior density is proportional to the likelihood times the prior:\n",
    "\n",
    "$$\n",
    "\\begin{align}\n",
    "f(\\theta | X^n) &\\propto \\mathcal{L}_n(\\theta) f(\\theta) \\\\\n",
    "&= \\frac{1}{\\theta} \\prod_{i=1}^n f(X_i; \\theta)  \\\\\n",
    "&= \\frac{1}{\\theta} \\prod_{i=1}^n \\frac{I(X_i \\leq \\theta)}{\\theta} \\\\\n",
    "&= \\theta^{-(n+1)} I( \\max \\{ X_1, \\dots, X_n \\} \\leq \\theta \\} ) \\\\\n",
    "&= \\begin{cases}\n",
    "\\theta^{-(n+1)} & \\text{if } \\theta \\geq \\max \\{ X_1, \\dots, X_n \\} \\\\\n",
    "0 & \\text{otherwise}\n",
    "\\end{cases}\n",
    "\\end{align}\n",
    "$$\n",
    "\n",
    "Now we just need to normalize the posterior density so it integrates to 1.  Let $m = \\max \\{ X_1, \\dots, X_n \\}$.  Then:\n",
    "\n",
    "$$ 1 = \\int_{-\\infty}^\\infty f(\\theta) d\\theta  = \\int_m^\\infty c \\theta^{-(n+1)} d\\theta = c m^{-n} / n$$\n",
    "\n",
    "Solving this we get $c = n m^n$, so the posterior density is:\n",
    "\n",
    "$$\n",
    "f(\\theta) = \\begin{cases}\n",
    "\\frac{n}{\\theta} \\left(\\frac{m}{\\theta}\\right)^n & \\text{if } \\theta \\geq m \\\\\n",
    "0 & \\text{otherwise}\n",
    "\\end{cases}\n",
    "$$\n",
    "\n",
    "where $m = \\max \\{ X_1, \\dots, X_n \\}$."
   ]
  },
  {
   "cell_type": "markdown",
   "metadata": {},
   "source": [
    "**Exercise 12.11.4**.  Suppose that 50 people are given a placebo and 50 are given a new treatment.  30 placebo patients show improvement while 40 treated patients show improvement.  Let $\\tau = p_2 - p_1$ where $p_2$ is the probability of improving under treatment and $p_1$ is the probability of improving under placebo.\n",
    "\n",
    "**(a)** Find the MLE of $\\tau$.  Find the standard error and 90% confidence interval using the delta method.\n",
    "\n",
    "**(b)** Find the standard error and 90% confidence interval using the parametric bootstrap.\n",
    "\n",
    "**(c)** Use the prior $f(p_1, p_2) = 1$.  Use simulation to find the posterior mean and posterior 90% interval for $\\tau$.\n",
    "\n",
    "**(d)** Let\n",
    "\n",
    "$$ \\psi = \\log \\left( \\left( \\frac{p_1}{1 - p_1} \\div \\frac{p2}{1 - p2} \\right) \\right) $$\n",
    "\n",
    "be the log-odds ratio.  Note that $\\psi = 0$  if $p_1 = p_2$.  Find the MLE of $\\psi$.  Use the delta method to find a 90% confidence interval for $\\psi$.\n",
    "\n",
    "**(e)** Use simulation to find the posterior mean and posterior 90% interval for $\\psi$."
   ]
  },
  {
   "cell_type": "markdown",
   "metadata": {},
   "source": [
    "**Solution**."
   ]
  },
  {
   "cell_type": "markdown",
   "metadata": {},
   "source": [
    "**(a)**\n",
    "\n",
    "We have two random variables, $X_1 \\sim \\text{Binomial}(n_1, p_1)$ and $X_2 \\sim \\text{Binomial}(n_2, p_2)$.  We are given $n_1 = n_2 = 50$, and the measurements $X_1 = 30$ and $X_2 = 40$.\n",
    "\n",
    "We wish to estimate $\\tau = g(p_1, p_2) = p_2 - p_1$.  The MLE is simply $\\hat{\\tau} = g(\\hat{p}_1, \\hat{p}_2) = \\hat{p}_2 - \\hat{p}_1 = X_2 / n_2 - X_1 / n_1$.  \n",
    "\n",
    "Using the multiparameter delta method, the gradient of $g$ is\n",
    "\n",
    "$$ \\nabla g = \n",
    "\\begin{pmatrix} \\partial g / \\partial p_1 \\\\ \\partial g / \\partial p_2 \\end{pmatrix} \n",
    "= \\begin{pmatrix} -1 \\\\ 1 \\end{pmatrix} \n",
    "$$\n",
    "\n",
    "The log likelihood is:\n",
    "\n",
    "$$ \n",
    "\\begin{align}\n",
    "\\ell(p_1, p_2) &= \\log f_{X_1}(X_1; p_1) + \\log f_{X_2}(X_2; p_2) \\\\\n",
    "& = \\log \\binom{n_1}{X_1} p_1^{X_1} (1 - p_1)^{n_1 - X_1}\n",
    "+ \\log \\binom{n_2}{X_2} p_2^{X_2} (1 - p_2)^{n_2 - X_2} \\\\\n",
    "&= \\log \\binom{n_1}{X_1} + X_1 \\log p_1 + (n_1 - X_1) \\log (1 - p_1)\n",
    "+ \\log \\binom{n_2}{X_2} + X_2 \\log p_2 + (n_2 - X_2) \\log (1 - p_2) \\\\\n",
    "&= X_1 \\log p_1 + (n_1 - X_1) \\log (1 - p_1) + X_2 \\log p_2 + (n_2 - X_2) \\log (1 - p_2) + C\n",
    "\\end{align}\n",
    "$$\n",
    "\n",
    "where $C$ does not depend on $p_1$ or $p_2$.\n",
    "\n",
    "The partial derivatives of the log likelihood are:\n",
    "\n",
    "$$\n",
    "\\begin{align}\n",
    "\\frac{\\partial^2 \\ell}{\\partial p_1^2} & = - \\frac{X_1}{p_1^2} - \\frac{n_1 - X_1}{(1 - p_1)^2} \\\\\n",
    "\\frac{\\partial^2 \\ell}{\\partial p_2^2} & = - \\frac{X_2}{p_2^2} - \\frac{n_2 - X_2}{(1 - p_2)^2} \\\\\n",
    "\\frac{\\partial^2 \\ell}{\\partial p_1 \\partial p_2} & = 0\n",
    "\\end{align}\n",
    "$$\n",
    "\n",
    "The Fisher Information Matrix is\n",
    "\n",
    "$$ I_n(p_1, p_2) = -\\begin{pmatrix}\n",
    "\\mathbb{E}\\left[ \\frac{\\partial^2 \\ell}{\\partial p_1^2} \\right]\n",
    "& \\mathbb{E}\\left[ \\frac{\\partial^2 \\ell}{\\partial p_1 \\partial p_2} \\right]  \\\\\n",
    "\\mathbb{E}\\left[ \\frac{\\partial^2 \\ell}{\\partial p_1 \\partial p_2} \\right]\n",
    "& \\mathbb{E}\\left[ \\frac{\\partial^2 \\ell}{\\partial p_2^2} \\right]\n",
    "\\end{pmatrix} = \\begin{pmatrix}\n",
    "\\frac{n_1}{p_1(1 - p_1)} & 0 \\\\\n",
    "0 & \\frac{n_2}{p_2(1 - p_2)}\n",
    "\\end{pmatrix}$$\n",
    "\n",
    "and its inverse is \n",
    "\n",
    "$$J_n(p_1, p_2) = I_n^{-1}(p_1, p_2) = \\begin{pmatrix} \n",
    "\\frac{p_1(1 - p_1)}{n_1} & 0 \\\\\n",
    "0 & \\frac{p_2(1 - p_2)}{n_2}\n",
    "\\end{pmatrix}$$\n",
    "\n",
    "Then,\n",
    "\n",
    "$$\\hat{\\text{se}}(\\hat{\\tau}) = \\sqrt{(\\hat{\\nabla}g)^T \\hat{J}_n (\\hat{\\nabla}g)}\n",
    "= \\sqrt{\\frac{\\hat{p}_1(1 - \\hat{p}_1)}{n_1} + \\frac{\\hat{p}_2(1 - \\hat{p}_2)}{n_2}}\n",
    "$$\n",
    "\n",
    "And we get the confidence interval:\n",
    "\n",
    "$$ \\hat{\\tau} \\pm z_{1 - \\alpha/2}\\hat{\\text{se}}(\\hat{\\tau})$$"
   ]
  },
  {
   "cell_type": "code",
   "execution_count": 11,
   "metadata": {},
   "outputs": [
    {
     "name": "stdout",
     "output_type": "stream",
     "text": [
      "Estimated difference of means: \t\t 0.200\n",
      "Estimated 90% confidence interval:\t 0.053, 0.347\n"
     ]
    }
   ],
   "source": [
    "import numpy as np\n",
    "from scipy.stats import norm\n",
    "\n",
    "n1 = 50\n",
    "n2 = 50\n",
    "\n",
    "X1 = 30\n",
    "X2 = 40\n",
    "\n",
    "p1_hat = X1 / n1\n",
    "p2_hat = X2 / n2\n",
    "\n",
    "tau_hat = p2_hat - p1_hat\n",
    "se_hat = np.sqrt((p1_hat * (1 - p1_hat) / n1) + (p2_hat * (1 - p2_hat) / n2))\n",
    "\n",
    "z_90 = norm.ppf(0.95)\n",
    "\n",
    "confidence_interval = (tau_hat - z_90 * se_hat, tau_hat + z_90 * se_hat)\n",
    "\n",
    "print('Estimated difference of means: \\t\\t %.3f' % tau_hat)\n",
    "print('Estimated 90%% confidence interval:\\t %.3f, %.3f' % confidence_interval)"
   ]
  },
  {
   "cell_type": "markdown",
   "metadata": {},
   "source": [
    "**(b)**"
   ]
  },
  {
   "cell_type": "code",
   "execution_count": 12,
   "metadata": {},
   "outputs": [
    {
     "name": "stdout",
     "output_type": "stream",
     "text": [
      "Estimated difference of means: \t\t 0.200\n",
      "Estimated 90% confidence interval:\t 0.060, 0.340\n"
     ]
    }
   ],
   "source": [
    "import numpy as np\n",
    "from scipy.stats import binom\n",
    "\n",
    "B = 100000\n",
    "\n",
    "n1 = 50\n",
    "n2 = 50\n",
    "\n",
    "X1 = 30\n",
    "X2 = 40\n",
    "\n",
    "p1_hat = X1 / n1\n",
    "p2_hat = X2 / n2\n",
    "\n",
    "XX1 = binom.rvs(n1, p1_hat, size=B)\n",
    "XX2 = binom.rvs(n2, p2_hat, size=B)\n",
    "tau_boot = XX2 / n2 - XX1 / n1\n",
    "\n",
    "tau_boot_hat = tau_boot.mean()\n",
    "q_05 = np.quantile(tau_boot, 0.05)\n",
    "q_95 = np.quantile(tau_boot, 0.95)\n",
    "\n",
    "boot_confidence_interval = (q_05, q_95)\n",
    "\n",
    "print('Estimated difference of means: \\t\\t %.3f' % tau_boot_hat)\n",
    "print('Estimated 90%% confidence interval:\\t %.3f, %.3f' % boot_confidence_interval)"
   ]
  },
  {
   "cell_type": "markdown",
   "metadata": {},
   "source": [
    "**(c)**  The posterior density is proportional to the likelihood times the prior:\n",
    "\n",
    "$$\n",
    "\\begin{align}\n",
    "f((p_1, p_2) | X^2) &\\propto \\mathcal{L}(p_1, p_2 | X^2) f(p_1, p_2) \\\\\n",
    "&= f_{X_1}(X_1 | p_1) f_{X_2}(X_2 | p_1) \\cdot 1 \\\\\n",
    "&= \\binom{n_1}{X_1} p_1^{X_1} (1 - p_1)^{n_1 - X_1} \\binom{n_2}{X_2} p_2^{X_2} (1 - p_2)^{n_2 - X_2} \\\\\n",
    "&\\propto p_1^{X_1} (1 - p_1)^{n_1 - X_1} p_2^{X_2} (1 - p_2)^{n_2 - X_2} \\\\\n",
    "&\\propto f(p_1 | X_1) f(p_2 | X_2)\n",
    "\\end{align}\n",
    "$$\n",
    "\n",
    "where \n",
    "\n",
    "$$p_1 | X_1 \\sim \\text{Beta}(X_1 + 1, n_1 - X_1 + 1) \n",
    "\\quad \\text{and} \\quad\n",
    "p_2 | X_2 \\sim \\text{Beta}(X_2 + 1, n_2 - X_2 + 1)$$\n",
    "\n",
    "We can now sample from the Beta distributions to sample $p_1$, $p_2$, and for each pair of samples, compute the sample $\\tau = p_2 - p_1$."
   ]
  },
  {
   "cell_type": "code",
   "execution_count": 13,
   "metadata": {},
   "outputs": [
    {
     "name": "stdout",
     "output_type": "stream",
     "text": [
      "Estimated posterior mean: \t\t 0.193\n",
      "Estimated 90% confidence interval:\t 0.047, 0.335\n"
     ]
    }
   ],
   "source": [
    "from scipy.stats import beta\n",
    "\n",
    "B = 100000\n",
    "\n",
    "n1 = 50\n",
    "n2 = 50\n",
    "\n",
    "X1 = 30\n",
    "X2 = 40\n",
    "\n",
    "p1_boot = beta.rvs(X1 + 1, n1 - X1 + 1, size=B)\n",
    "p2_boot = beta.rvs(X2 + 1, n2 - X2 + 1, size=B)\n",
    "tau_boot = p2_boot - p1_boot\n",
    "\n",
    "tau_boot_hat = tau_boot.mean()\n",
    "q_05 = np.quantile(tau_boot, 0.05)\n",
    "q_95 = np.quantile(tau_boot, 0.95)\n",
    "\n",
    "boot_confidence_interval = (q_05, q_95)\n",
    "\n",
    "print('Estimated posterior mean: \\t\\t %.3f' % tau_boot_hat)\n",
    "print('Estimated 90%% confidence interval:\\t %.3f, %.3f' % boot_confidence_interval)"
   ]
  },
  {
   "cell_type": "markdown",
   "metadata": {},
   "source": [
    "**(d)**\n",
    "\n",
    "Let $\\psi = h(p_1, p_2) = \\log p_1 - \\log (1 - p_1) - \\log p_2 + \\log (1 - p_2)$.  The MLE is just $\\hat{\\psi} = h(\\hat{p_1}, \\hat{p_2})$.\n",
    "\n",
    "Using the multiparameter delta method, the gradient of $h$ is:\n",
    "\n",
    "$$\\nabla h = \n",
    "\\begin{pmatrix}\n",
    "\\frac{\\partial h}{\\partial p_1} \\\\ \n",
    "\\frac{\\partial h}{\\partial p_2} \\end{pmatrix}\n",
    "= \\begin{pmatrix}\n",
    "\\frac{1}{p_1(1 - p_1)} \\\\\n",
    "-\\frac{1}{p_2(1 - p_2)}\n",
    "\\end{pmatrix}\n",
    "$$\n",
    "\n",
    "The inverse Fisher Information Matrix is still:\n",
    "\n",
    "$$J_n(p_1, p_2) = \\begin{pmatrix}\n",
    "\\frac{p_1(1 - p_1)}{n_1} & 0 \\\\\n",
    "0 & \\frac{p_2(1 - p_2)}{n_2}\n",
    "\\end{pmatrix}$$\n",
    "\n",
    "and so the estimated standard error is:\n",
    "\n",
    "$$\n",
    "\\begin{align}\n",
    "\\hat{\\text{se}}(\\hat{\\psi}) &= \\sqrt{(\\hat{\\nabla}h)^T \\hat{J}_n (\\hat{\\nabla}h)} \\\\\n",
    "&= \n",
    "\\sqrt{\\begin{pmatrix}\n",
    "\\frac{1}{\\hat{p}_1(1 - \\hat{p}_1)} &\n",
    "-\\frac{1}{\\hat{p}_2(1 - \\hat{p}_2)}\n",
    "\\end{pmatrix}\n",
    "\\begin{pmatrix}\n",
    "\\frac{\\hat{p}_1(1 - \\hat{p}_1)}{n_1} & 0 \\\\\n",
    "0 & \\frac{\\hat{p}_2(1 - \\hat{p}_2)}{n_2}\n",
    "\\end{pmatrix}\n",
    "\\begin{pmatrix}\n",
    "\\frac{1}{\\hat{p}_1(1 - \\hat{p}_1)} \\\\\n",
    "-\\frac{1}{\\hat{p}_2(1 - \\hat{p}_2)}\n",
    "\\end{pmatrix}} \\\\\n",
    "&= \\sqrt{\\frac{1}{n_1 \\hat{p}_1(1 - \\hat{p}_1)} + \\frac{1}{n_2 \\hat{p}_2(1 - \\hat{p}_2)}}\n",
    "\\end{align}\n",
    "$$\n",
    "\n",
    "and we get the confidence interval:\n",
    "\n",
    "$$\\hat{\\psi} \\pm z_{1 - \\alpha/2} \\hat{\\text{se}}(\\hat{\\psi})$$"
   ]
  },
  {
   "cell_type": "code",
   "execution_count": 14,
   "metadata": {},
   "outputs": [
    {
     "name": "stdout",
     "output_type": "stream",
     "text": [
      "Estimated log-odds ratio: \t\t -0.981\n",
      "Estimated 90% confidence interval:\t -1.732, -0.230\n"
     ]
    }
   ],
   "source": [
    "import numpy as np\n",
    "from scipy.stats import norm\n",
    "\n",
    "n1 = 50\n",
    "n2 = 50\n",
    "\n",
    "X1 = 30\n",
    "X2 = 40\n",
    "\n",
    "p1_hat = X1 / n1\n",
    "p2_hat = X2 / n2\n",
    "\n",
    "psi_hat = np.log((p1_hat / (1 - p1_hat)) / (p2_hat / (1 - p2_hat)))\n",
    "se_hat = np.sqrt(1/(n1 * p1_hat * (1 - p1_hat)) + 1/(n2 * p2_hat * (1 - p2_hat)))\n",
    "\n",
    "z_90 = norm.ppf(0.95)\n",
    "\n",
    "confidence_interval = (psi_hat - z_90 * se_hat, psi_hat + z_90 * se_hat)\n",
    "\n",
    "print('Estimated log-odds ratio: \\t\\t %.3f' % psi_hat)\n",
    "print('Estimated 90%% confidence interval:\\t %.3f, %.3f' % confidence_interval)"
   ]
  },
  {
   "cell_type": "markdown",
   "metadata": {},
   "source": [
    "**(e)**  The probability distributions for $p_1 | X_1$ and $p_2 | X_2$ are still the same -- we are just computing $\\psi = h(p_1, p_2)$ for each simulation sample now, rather than $\\tau = g(p_1, p_2)$."
   ]
  },
  {
   "cell_type": "code",
   "execution_count": 15,
   "metadata": {},
   "outputs": [
    {
     "name": "stdout",
     "output_type": "stream",
     "text": [
      "Estimated posterior mean: \t\t -0.953\n",
      "Estimated 90% confidence interval:\t -1.699, -0.224\n"
     ]
    }
   ],
   "source": [
    "from scipy.stats import beta\n",
    "\n",
    "B = 100000\n",
    "\n",
    "n1 = 50\n",
    "n2 = 50\n",
    "\n",
    "X1 = 30\n",
    "X2 = 40\n",
    "\n",
    "p1_boot = beta.rvs(X1 + 1, n1 - X1 + 1, size=B)\n",
    "p2_boot = beta.rvs(X2 + 1, n2 - X2 + 1, size=B)\n",
    "psi_boot = np.log((p1_boot / (1 - p1_boot)) / (p2_boot / (1 - p2_boot)))\n",
    "\n",
    "psi_boot_hat = psi_boot.mean()\n",
    "q_05 = np.quantile(psi_boot, 0.05)\n",
    "q_95 = np.quantile(psi_boot, 0.95)\n",
    "\n",
    "boot_confidence_interval = (q_05, q_95)\n",
    "\n",
    "print('Estimated posterior mean: \\t\\t %.3f' % psi_boot_hat)\n",
    "print('Estimated 90%% confidence interval:\\t %.3f, %.3f' % boot_confidence_interval)"
   ]
  },
  {
   "cell_type": "markdown",
   "metadata": {},
   "source": [
    "**Exercise 12.11.5**.  Consider the $\\text{Bernoulli}(p)$ observations\n",
    "\n",
    "$$ 0\\; 1\\; 0\\; 1\\; 0\\; 0\\; 0\\; 0\\; 0\\; 0 $$\n",
    "\n",
    "Plot the posterior for $p$ using these priors: $\\text{Beta}(1/2, 1/2)$, $\\text{Beta}(1, 1)$, $\\text{Beta}(10, 10)$, $\\text{Beta}(100, 100)$."
   ]
  },
  {
   "cell_type": "markdown",
   "metadata": {},
   "source": [
    "**Solution**.\n",
    "\n",
    "The observations include $n = 10$ samples, of which $k = 2$ samples with observed value 1.  Assume a prior of the form $\\text{Beta}(\\alpha, \\beta)$.\n",
    "\n",
    "The posterior is proportional to the likelihood times the prior.\n",
    "\n",
    "$$\n",
    "\\begin{align}\n",
    "f(p | X^n) & \\propto \\mathcal{L}(p | x^n) f(p) \\\\\n",
    "&= \\binom{n}{k} p^k (1 - p)^{n-k} \\frac{p^{\\alpha - 1}(1-p)^{\\beta - 1}}{B(\\alpha, \\beta)}\\\\\n",
    "&\\propto p^{k + \\alpha - 1} (1 - p)^{n - k + \\beta - 1}\n",
    "\\end{align}\n",
    "$$\n",
    "\n",
    "This density is proportional to a Beta density function in p, so\n",
    "\n",
    "$$p | X^n \\sim \\text{Beta}(k + \\alpha - 1, n - k + \\beta - 1)$$\n",
    "\n",
    "Now, plotting the posterior becomes just a matter of plotting these beta distributions.\n",
    "\n",
    "When $\\alpha$ and $\\beta$ are integers, we can also reinterpret this posterior as equivalent to starting with a flat prior and observing extra $\\alpha + \\beta$ events, with $\\alpha$ extra events producing outcome 1 and $\\beta$ extra events producing outcome 0.  This is shown on the plots below -- the larger the number of \"extra observations\", the less impact the actual observations make on shifting the belief about the true parameter value."
   ]
  },
  {
   "cell_type": "code",
   "execution_count": 16,
   "metadata": {},
   "outputs": [
    {
     "data": {
      "image/png": "[encoded data removed]",
      "text/plain": [
       "<Figure size 864x576 with 1 Axes>"
      ]
     },
     "metadata": {
      "needs_background": "light"
     },
     "output_type": "display_data"
    }
   ],
   "source": [
    "import numpy as np\n",
    "from scipy.stats import beta\n",
    "import matplotlib.pyplot as plt\n",
    "\n",
    "n = 10\n",
    "k = 2\n",
    "\n",
    "x = np.linspace(0, 1, 200)\n",
    "\n",
    "plt.figure(figsize=(12, 8))\n",
    "for a, b in [(1/2, 1/2), (1, 1), (10, 10), (100, 100)]:\n",
    "    plt.plot(x, beta.pdf(x, k + a - 1, n - k + b - 1), label='prior = Beta(' + str(a) + ', ' + str(b) +')')\n",
    "    plt.legend()\n",
    "\n",
    "plt.show();"
   ]
  },
  {
   "cell_type": "markdown",
   "metadata": {},
   "source": [
    "**Exercise 12.11.6**.  Let $X_1, \\dots, X_n \\sim \\text{Poisson}(\\lambda)$.\n",
    "\n",
    "**(a)** Let $\\lambda \\sim \\text{Gamma}(\\alpha, \\beta)$ be the prior.  Show that the posterior is also a Gamma.  Find the posterior mean.\n",
    "\n",
    "**(b)** Find the Jeffreys' prior.  Find the posterior."
   ]
  },
  {
   "cell_type": "markdown",
   "metadata": {},
   "source": [
    "**Solution**.\n",
    "\n",
    "**(a)**  The posterior is proportional to the likelihood times the prior:\n",
    "\n",
    "$$\n",
    "\\begin{align}\n",
    "f(\\lambda | X^n) &\\propto \\mathcal{L}(\\lambda | X^n) f(\\lambda) \\\\\n",
    "&= \\left(\\prod_{i=1}^n \\frac{\\lambda^{X_i}e^{-\\lambda}}{X_i!} \\right) \\frac{\\beta^{\\alpha}}{\\Gamma(\\alpha)}\\lambda^{\\alpha - 1}e^{-\\beta \\lambda} \\\\\n",
    "& \\propto \\lambda^{\\sum_i X_i} e^{-n\\lambda} \\lambda^{\\alpha - 1}e^{-\\beta \\lambda} \\\\\n",
    "&= \\lambda^{\\left(\\alpha + \\sum_i X_i \\right) - 1} e^{-(\\beta + n) \\lambda}\n",
    "\\end{align}\n",
    "$$\n",
    "\n",
    "Therefore, the posterior is proportional to a Gamma distribution with parameters $\\left(\\alpha + \\sum_{i=1}^n X_i, \\beta + n\\right)$ -- and thus it must be drawn from that distribution.\n",
    "\n",
    "$$\\lambda | X^n \\sim \\text{Gamma}\\left(\\alpha + \\sum_{i=1}^n X_i, \\beta + n \\right)$$\n",
    "\n",
    "The posterior mean is the mean of Gamma distribution it is drawn from,\n",
    "\n",
    "$$ \\overline{\\lambda} | X^n = \\frac{\\alpha + \\sum_{i=1}^n X_i}{\\beta + n} $$"
   ]
  },
  {
   "cell_type": "markdown",
   "metadata": {},
   "source": [
    "**(b)** For a Poisson distribution, the log likelihood is\n",
    "\n",
    "$$\n",
    "\\begin{align}\n",
    "\\ell_n(\\lambda) &= \\sum_{i=1}^n \\log \\left( \\frac{\\lambda^{X_i} e^{-\\lambda}}{X_i!}\\right)  \\\\\n",
    "&= \\sum_{i=1}^n \\left( X_i \\log \\lambda - \\lambda - \\log (X_i!)\\right) \\\\\n",
    "&= \\log \\lambda \\left( \\sum_{i=1}^n X_i \\right) - n\\lambda - \\sum_{i=1}^n \\log (X_i!)\n",
    "\\end{align}\n",
    "$$\n",
    "\n",
    "Its second derivative is $\\ell_n''(\\lambda) = -n \\overline{X} / \\lambda^2$, so Fisher's information is $I(\\lambda) = -\\mathbb{E}[\\ell''(\\lambda)] = 1 / \\lambda$. \n",
    "\n",
    "Jeffreys' prior is:\n",
    "\n",
    "$$f(\\lambda) \\propto I(\\lambda)^{1/2} = \\lambda^{-1/2}$$\n",
    "\n",
    "The posterior is proportional to the likelihood times the prior:\n",
    "\n",
    "$$\n",
    "\\begin{align}\n",
    "f(\\lambda | X^n) &\\propto \\mathcal{L}(\\lambda | X^n) f(\\lambda) \\\\\n",
    "&\\propto \\left(\\prod_{i=1}^n \\frac{\\lambda^{X_i}e^{-\\lambda}}{X_i!} \\right) \\lambda^{-1/2} \\\\\n",
    "&\\propto \\lambda^{\\left(1/2 + \\sum_i X_i \\right) - 1} e^{-n\\lambda}\n",
    "\\end{align}\n",
    "$$\n",
    "\n",
    "Therefore, the posterior is proportional to a Gamma distribution with parameters $\\left(\\left(1/2 + \\sum_{i=1}^n X_i \\right), n\\right)$ -- and thus it must be drawn from that distribution.\n",
    "\n",
    "$$\\lambda | X^n \\sim \\text{Gamma}\\left(\\frac{1}{2} + \\sum_{i=1}^n X_i, n \\right)$$"
   ]
  }
 ],
 "metadata": {
  "kernelspec": {
   "display_name": "Python 3",
   "language": "python",
   "name": "python3"
  },
  "language_info": {
   "codemirror_mode": {
    "name": "ipython",
    "version": 3
   },
   "file_extension": ".py",
   "mimetype": "text/x-python",
   "name": "python",
   "nbconvert_exporter": "python",
   "pygments_lexer": "ipython3",
   "version": "3.8.5"
  }
 },
 "nbformat": 4,
 "nbformat_minor": 2
}
