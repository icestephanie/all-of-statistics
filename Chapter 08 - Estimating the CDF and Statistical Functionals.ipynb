{
 "cells": [
  {
   "cell_type": "markdown",
   "metadata": {},
   "source": [
    "## 8. Estimating the CDF and Statistical Functionals"
   ]
  },
  {
   "cell_type": "markdown",
   "metadata": {},
   "source": [
    "### 8.1 Empirical distribution function"
   ]
  },
  {
   "cell_type": "markdown",
   "metadata": {},
   "source": [
    "The **empirical distribution function** $\\hat{F_n}$ is the CDF that puts mass $1/n$ at each data point $X_i$.  Formally,\n",
    "\n",
    "$$\n",
    "\\begin{align}\n",
    "\\hat{F_n}(x) & = \\frac{\\sum_{i=1}^n I\\left(X_i \\leq x \\right)}{n} \\\\\n",
    "&= \\frac{\\text{#}|\\text{observations less than or equal to x}|}{n}\n",
    "\\end{align}\n",
    "$$\n",
    "\n",
    "where\n",
    "\n",
    "$$\n",
    "\\begin{equation}\n",
    "I\\left(X_i \\leq x\\right) =\n",
    "    \\begin{cases}\n",
    "      1   & \\text{if } X_i \\leq x \\\\\n",
    "      0   & \\text{if } X_i > x\n",
    "    \\end{cases}       \n",
    "\\end{equation}\n",
    "$$"
   ]
  },
  {
   "cell_type": "markdown",
   "metadata": {},
   "source": [
    "**Theorem 8.3**.  At any fixed value of $x$,\n",
    "\n",
    "$$\n",
    "\\begin{equation}\n",
    "\\mathbb{E}\\left( \\hat{F_n}(x) \\right) = F(x)\n",
    "\\quad\\mathrm{and}\\quad \n",
    "\\mathbb{V}\\left( \\hat{F_n}(x) \\right) = \\frac{F(x)(1 - F(x))}{n}\n",
    "\\end{equation}\n",
    "$$\n",
    "\n",
    "Thus,\n",
    "\n",
    "$$ \\text{MSE} = \\frac{F(x)(1 - F(x))}{n} \\rightarrow 0 $$\n",
    "\n",
    "and hence, $\\hat{F_n}(x) \\xrightarrow{\\text{P}} F(x)$."
   ]
  },
  {
   "cell_type": "markdown",
   "metadata": {},
   "source": [
    "**Theorem 8.4 (Glivenko-Cantelli Theorem)**.  Let $X_1, \\dots, X_n \\sim F$.  Then\n",
    "\n",
    "$$ \\sup _x |\\hat{F_n}(x) - F(x)| \\xrightarrow{\\text{P}} 0 $$\n",
    "\n",
    "(actually, $\\sup _x |\\hat{F_n}(x) - F(x)|$ converges to 0 almost surely.)"
   ]
  },
  {
   "cell_type": "markdown",
   "metadata": {},
   "source": [
    "### 8.2 Statistical Functionals"
   ]
  },
  {
   "cell_type": "markdown",
   "metadata": {},
   "source": [
    "A **statistical functional** $T(F)$ is any function of $F$.  Examples are the mean $\\mu = \\int x dF(x)$, the variance $\\sigma^2 = \\int (x - \\mu)^2 dF(x)$ and the median $m = F^{-1}(1/2)$."
   ]
  },
  {
   "cell_type": "markdown",
   "metadata": {},
   "source": [
    "The **plug-in estimator** of $\\theta = T(F)$ is defined by\n",
    "\n",
    "$$\\hat{\\theta_n} = T(\\hat{F_n}) $$\n",
    "\n",
    "In other words, just plug in $\\hat{F_n}$ for the unknown $F$."
   ]
  },
  {
   "cell_type": "markdown",
   "metadata": {},
   "source": [
    "A functional of the form $\\int r(x) dF(x)$ is called a **linear functional**.  Recall that $\\int r(x) dF(x)$ is defined to be $\\int r(x) f(x) d(x)$ in the continuous case and $\\sum_j r(x_j) f(x_j)$ in the discrete."
   ]
  },
  {
   "cell_type": "markdown",
   "metadata": {},
   "source": [
    "The plug-in estimator for the linear functional $T(F) = \\int r(x) dF(x)$ is:\n",
    "\n",
    "$$T(\\hat{F_n}) = \\int r(x) d\\hat{F_n}(x) = \\frac{1}{n} \\sum_{i=1}^n r(X_i)$$"
   ]
  },
  {
   "cell_type": "markdown",
   "metadata": {},
   "source": [
    "We have:\n",
    "\n",
    "$$ T(\\hat{F_n}) \\approx N\\left(T(F), \\hat{\\text{se}}\\right) $$\n",
    "\n",
    "An approximate $1 - \\alpha$ confidence interval for $T(F)$ is then\n",
    "\n",
    "$$ T(\\hat{F_n}) \\pm z_{\\alpha/2} \\hat{\\text{se}} $$\n",
    "\n",
    "We call this the **Normal-based interval**."
   ]
  },
  {
   "cell_type": "markdown",
   "metadata": {},
   "source": [
    "### 8.3 Technical Appendix"
   ]
  },
  {
   "cell_type": "markdown",
   "metadata": {},
   "source": [
    "**Theorem 8.12 (Dvoretsky-Kiefer-Wolfowitz (DKW) inequality)**.  Let $X_1, \\dots, X_n$ be iid from $F$.  Then, for any $\\epsilon > 0$,\n",
    "\n",
    "$$\\mathbb{P}\\left( \\sup_x |F(x) - \\hat{F_n}(x) | > \\epsilon \\right) \\leq 2 e^{-2n\\epsilon^2}$$"
   ]
  },
  {
   "cell_type": "markdown",
   "metadata": {},
   "source": [
    "From the DKW inequality, we can construct a confidence set.  Let $\\epsilon_n^2 = \\log(2/\\alpha) / (2n)$, $L(x) = \\max \\{ \\hat{F_n}(x) - \\epsilon_n, \\; 0 \\}$ and $U(x) = \\min \\{\\hat{F_n}(x) + \\epsilon_n, 1 \\}$.  It follows that for any $F$,\n",
    "\n",
    "$$ \\mathbb{P}(F \\in C_n) \\geq 1 - \\alpha $$\n",
    "\n",
    "To summarize:\n",
    "\n",
    "A $1 - \\alpha$ nonparametric confidence band for $F$ is $(L(x), \\; U(x))$ where \n",
    "\n",
    "$$\n",
    "\\begin{align}\n",
    "L(x) &= \\max \\{ \\hat{F_n}(x) - \\epsilon_n, \\; 0 \\} \\\\\n",
    "U(x) &= \\min \\{ \\hat{F_n}(x) + \\epsilon_n, \\; 1 \\} \\\\\n",
    "\\epsilon_n &= \\sqrt{\\frac{1}{2n} \\log \\left( \\frac{2}{\\alpha} \\right) }\n",
    "\\end{align}\n",
    "$$"
   ]
  },
  {
   "cell_type": "markdown",
   "metadata": {},
   "source": [
    "### 8.5 Exercises"
   ]
  },
  {
   "cell_type": "markdown",
   "metadata": {},
   "source": [
    "**Exercise 8.5.1**.  Prove Theorem 8.3."
   ]
  },
  {
   "cell_type": "markdown",
   "metadata": {},
   "source": [
    "**Solution**.  We have:\n",
    "\n",
    "$$\n",
    "\\hat{F_n}(x) = \\frac{\\sum_{i=1}^n I\\left(X_i \\leq x \\right)}{n}\n",
    "$$\n",
    "\n",
    "where\n",
    "\n",
    "$$\n",
    "\\begin{equation}\n",
    "I\\left(X_i \\leq x\\right) =\n",
    "    \\begin{cases}\n",
    "      1   & \\text{if } X_i \\leq x \\\\\n",
    "      0   & \\text{if } X_i > x\n",
    "    \\end{cases}       \n",
    "\\end{equation}\n",
    "$$\n",
    "\n",
    "Thus,\n",
    "\n",
    "$$\n",
    "\\begin{align}\n",
    "\\mathbb{E}(\\hat{F_n}(x)) & = n^{-1} \\sum_{i = 1}^n \\mathbb{E}(I\\left(X_i \\leq x \\right)) \\\\\n",
    " & = n^{-1} \\sum_{i = 1}^n \\mathbb{P}\\left(X_i \\leq x \\right) \\\\\n",
    " & = n^{-1} \\sum_{i = 1}^n F(x) \\\\\n",
    " & = F(x)\n",
    "\\end{align}\n",
    "$$\n",
    "\n",
    "$$\n",
    "\\begin{align}\n",
    "\\mathbb{E}(\\hat{F_n}(x)^2) & = n^{-2} \\mathbb{E} \\left( \\sum_{i = 1}^n I\\left(X_i \\leq x \\right) \\right)^2 \\\\\n",
    "& = n^{-2} \\mathbb{E} \\left( \\sum_{i = 1}^n I\\left(X_i \\leq x \\right)^2 \n",
    "+ \\sum_{i = 1}^n \\sum_{j = 1, j \\neq i}^n I\\left(X_i \\leq x \\right) I\\left(X_j \\leq x \\right) \\right) \\\\\n",
    "& = n^{-2} \\left( \\sum_{i = 1}^n \\mathbb{E} \\left( I\\left(X_i \\leq x \\right)^2 \\right)\n",
    "+ \\sum_{i = 1}^n \\sum_{j = 1, j \\neq i}^n \\mathbb{E} \\left( I\\left(X_i \\leq x \\right) I\\left(X_j \\leq x \\right) \\right) \\right) \\\\\n",
    "& = n^{-2} \\left( \\sum_{i = 1}^n \\mathbb{E} \\left( I\\left(X_i \\leq x \\right) \\right)\n",
    "+ \\sum_{i = 1}^n \\sum_{j = 1, j \\neq i}^n \\mathbb{E} \\left( I\\left(X_i \\leq x \\right) \\right) \\mathbb{E} \\left( I\\left(X_j \\leq x \\right) \\right) \\right) \\\\\n",
    "& = n^{-2} \\left( \\sum_{i = 1}^n \\mathbb{P}\\left(X_i \\leq x \\right) \n",
    "+ \\sum_{i = 1}^n \\sum_{j = 1, j \\neq i}^n \\mathbb{P}\\left(X_i \\leq x \\right) \\mathbb{P}\\left(X_j \\leq x \\right)  \\right) \\\\\n",
    "&= n^{-2} \\left( \\sum_{i = 1}^n F(x)\n",
    "+ \\sum_{i = 1}^n \\sum_{j = 1, j \\neq i}^n F(x)^2  \\right) \\\\\n",
    "&= n^{-2} \\left( nF(x) + (n^2 - n)F(x)^2 \\right) \\\\\n",
    "&= n^{-1} ( F(x) + (n - 1) F(x)^2 )\n",
    "\\end{align}\n",
    "$$\n",
    "\n",
    "\n",
    "Therefore,\n",
    "\n",
    "$$ \\mathbb{V}(\\hat{F_n}(x)) \n",
    "= \\mathbb{E}(\\hat{F_n}(x)^2) - \\mathbb{E}(\\hat{F_n}(x))^2\n",
    "= F(x) /n + (1 - 1/n)F(x)^2 - F(x)^2\n",
    "= \\frac{F(x)(1 - F(x))}{n}\n",
    "$$\n",
    "\n",
    "Finally,\n",
    "\n",
    "$$ \\text{MSE} = (\\text{bias}(F(x)))^2 + \\mathbb{V}(F(x)) = (\\mathbb{E}(\\hat{F_n}(x)) - F(x))^2 + \\mathbb{V}(F(x)) = \\mathbb{V}(F(x)) = \\frac{F(x)(1 - F(x))}{n} \\rightarrow 0$$"
   ]
  },
  {
   "cell_type": "markdown",
   "metadata": {},
   "source": [
    "**Exercise 8.5.2**.  Let $X_1, \\dots, X_n \\sim \\text{Bernoulli}(p)$ and let $Y_1, \\dots, Y_m \\sim \\text{Bernoulli}(q)$.\n",
    "\n",
    "- Find the plug-in estimator and estimated standard error for $p$.\n",
    "- Find an approximate 90-percent confidence interval for $p$.\n",
    "- Find the plug-in estimator and estimated standard error for $p - q$.\n",
    "- Find an approximate 90-percent confidence interval for $p - q$."
   ]
  },
  {
   "cell_type": "markdown",
   "metadata": {},
   "source": [
    "**Solution**.\n",
    "\n",
    "**(a)**\n",
    "\n",
    "$p$ is the mean of $\\text{Bernoulli}(p)$, so its plugin estimator is $\\hat{p} = \\mathbb{E}(\\hat{F_n}) = n^{-1} \\sum_{i=1}^n X_i  = \\overline{X}_n$.\n",
    "\n",
    "$\\sqrt{p(1-p)}$ is the standard deviation of $\\text{Bernoulli}(p)$, so the plugin estimator for the standard error is $\\sqrt{\\frac{\\hat{p}(1-\\hat{p})}{n}} = \\sqrt{\\frac{\\overline{X}_n(1 - \\overline{X}_n)}{n}}$.\n",
    "\n",
    "**(b)**\n",
    "\n",
    "The 90-percent confidence interval for $p$ is $\\hat{p} \\pm z_{5\\%} \\hat{se}(\\hat{p})= \\overline{X}_n \\pm z_{5\\%} \\sqrt{\\frac{\\overline{X}_n(1-\\overline{X}_n)}{n}}$.\n",
    "\n",
    "**(c)**\n",
    "\n",
    "The plug-in estimator for $\\theta = p - q$ is $\\hat{\\theta} = \\hat{p} - \\hat{q} = \\overline{X}_n - \\overline{Y}_m$.\n",
    "\n",
    "The standard error of $\\hat{\\theta}$ is\n",
    "\n",
    "$$\\text{se} = \\sqrt{\\mathbb{V}(\\hat{p} - \\hat{q})} = \\sqrt{\\mathbb{V}(\\hat{p}) + \\mathbb{V}(\\hat{q})} = \\sqrt{\\frac{\\hat{p}(1 - \\hat{p})}{n} + \\frac{\\hat{q}(1 - \\hat{q})}{n}} = \\sqrt{\\frac{\\overline{X}_n(1 - \\overline{X}_n)}{n} + \\frac{\\overline{Y}_m(1 - \\overline{Y}_m)}{n}} $$\n",
    "\n",
    "**(d)**\n",
    "\n",
    "The 90-percent confidence interval for $\\theta = p - q$ is $\\hat{\\theta} \\pm z_{5\\%} \\hat{se}(\\hat{\\theta}) = \\overline{X}_n - \\overline{Y}_m \\pm z_{5\\%} \\sqrt{\\frac{\\overline{X}_n(1 - \\overline{X}_n)}{n} + \\frac{\\overline{Y}_m(1 - \\overline{Y}_m)}{n}} $"
   ]
  },
  {
   "cell_type": "markdown",
   "metadata": {},
   "source": [
    "**Exercise 8.5.3**. (Computer Experiment)  Generate 100 observations from a $N(0, 1)$ distribution.  Compute a 95 percent confidence band for the CDF $F$.  Repeat this 1000 times and see how often the confidence band contains the true function.  Repeat using data from a Cauchy distribution."
   ]
  },
  {
   "cell_type": "code",
   "execution_count": 1,
   "metadata": {},
   "outputs": [],
   "source": [
    "import math\n",
    "import numpy as np\n",
    "import pandas as pd\n",
    "from scipy.stats import norm, cauchy\n",
    "import matplotlib.pyplot as plt\n",
    "\n",
    "from tqdm import tqdm_notebook"
   ]
  },
  {
   "cell_type": "code",
   "execution_count": 2,
   "metadata": {},
   "outputs": [
    {
     "data": {
      "text/plain": [
       "<matplotlib.legend.Legend at 0x1d9235805b0>"
      ]
     },
     "execution_count": 2,
     "metadata": {},
     "output_type": "execute_result"
    },
    {
     "data": {
      "image/png": "[encoded data removed]",
      "text/plain": [
       "<Figure size 432x288 with 1 Axes>"
      ]
     },
     "metadata": {
      "needs_background": "light"
     },
     "output_type": "display_data"
    }
   ],
   "source": [
    "# One iteration with Normal distribution\n",
    "# DKW inequality provides the nonparametric confidence band\n",
    "# Central Limit Theorem provides normal based confidence band \n",
    "\n",
    "n = 100\n",
    "alpha = 0.05\n",
    "r = norm.rvs(size=n)\n",
    "epsilon = math.sqrt((1 / (2 * n)) * math.log(2 / alpha))\n",
    "\n",
    "F = lambda x: sum(r < x) / n\n",
    "xx = sorted(r)\n",
    "F_n = np.array(list(map(F, xx)))\n",
    "L_n = np.maximum(F_n - epsilon,0)\n",
    "U_n = np.minimum(F_n + epsilon,1)\n",
    "CDF = np.array(list(map(norm.cdf, xx)))\n",
    "\n",
    "se = np.sqrt((F_n * (1 - F_n)) / n)\n",
    "normal_LB = F_n - norm.ppf(1 - alpha / 2) * se\n",
    "normal_UB = F_n + norm.ppf(1 - alpha / 2) * se\n",
    "\n",
    "df=pd.DataFrame({\n",
    "    'x': xx,\n",
    "    'F_n': F_n,\n",
    "    'U_n': U_n,\n",
    "    'L_n': L_n,\n",
    "     'CDF': CDF,\n",
    "    'normal_upper': normal_UB,\n",
    "    'normal_lower': normal_LB\n",
    "})\n",
    "df['in_bounds'] = (df['U_n'] >= df['CDF']) & (df['CDF'] >= df['L_n'])\n",
    "\n",
    "plt.plot('x', 'L_n', data=df, color='red')\n",
    "plt.plot('x', 'U_n', data=df, color='green')\n",
    "plt.plot('x', 'CDF', data=df, color='purple')\n",
    "plt.plot('x', 'normal_upper', data=df, color='orange')\n",
    "plt.plot('x', 'normal_lower', data=df, color='blue')\n",
    "plt.legend()"
   ]
  },
  {
   "cell_type": "code",
   "execution_count": 3,
   "metadata": {},
   "outputs": [
    {
     "data": {
      "application/vnd.jupyter.widget-view+json": {
       "model_id": "1d3ed59f04ba41e29f504c8424ff312c",
       "version_major": 2,
       "version_minor": 0
      },
      "text/plain": [
       "HBox(children=(IntProgress(value=0, max=1000), HTML(value='')))"
      ]
     },
     "metadata": {},
     "output_type": "display_data"
    },
    {
     "name": "stdout",
     "output_type": "stream",
     "text": [
      "\n",
      "Average fraction in DKW bounds: 0.976\n",
      "Average fraction in normal bounds: 0.000\n",
      "Average distance in DKW bounds: 25.3\n",
      "Average distance in normal bounds: 15.6\n"
     ]
    }
   ],
   "source": [
    "# 1000 iterations with Normal distribution\n",
    "\n",
    "bounds = []\n",
    "normal_bounds = []\n",
    "distance = []\n",
    "normal_distance = []\n",
    "n = 100\n",
    "alpha = 0.05\n",
    "epsilon = math.sqrt((1 / (2 * n)) * math.log(2 / alpha))\n",
    "\n",
    "for k in tqdm(range(1000)):\n",
    "    r=norm.rvs(size=n)\n",
    "    \n",
    "    F = lambda x: sum(r < x) / n\n",
    "    xx = sorted(r)\n",
    "    F_n = np.array(list(map(F, xx)))\n",
    "    L_n = np.maximum(F_n - epsilon,0)\n",
    "    U_n = np.minimum(F_n + epsilon,1)\n",
    "    CDF = np.array(list(map(norm.cdf, xx)))\n",
    "\n",
    "    se = np.sqrt((F_n * (1 - F_n)) / n)\n",
    "    normal_LB = F_n - norm.ppf(1 - alpha / 2) * se\n",
    "    normal_UB = F_n + norm.ppf(1 - alpha / 2) * se\n",
    "\n",
    "    df=pd.DataFrame({\n",
    "        'x': xx,\n",
    "        'F_n': F_n,\n",
    "        'U_n': U_n,\n",
    "        'L_n': L_n,\n",
    "         'CDF': CDF,\n",
    "        'normal_upper': normal_UB,\n",
    "        'normal_lower': normal_LB\n",
    "    })\n",
    "    \n",
    "    all_in_bounds = ((df['U_n']>=df['CDF'])&(df['CDF']>=df['L_n'])).all()\n",
    "    bounds.append(all_in_bounds)\n",
    "    all_in_bounds = ((df['normal_upper']>=df['CDF'])&(df['CDF']>=df['normal_lower'])).all()\n",
    "    normal_bounds.append(all_in_bounds)\n",
    "    \n",
    "    d = sum(abs(CDF - L_n)) + sum(abs(CDF - U_n))\n",
    "    distance.append(d)\n",
    "    d = sum(abs(CDF - normal_LB)) + sum(abs(CDF - normal_UB))\n",
    "    normal_distance.append(d)\n",
    "\n",
    "print('Average fraction in DKW bounds: %.3f' % np.array(bounds).mean())\n",
    "print('Average fraction in normal bounds: %.3f' % np.array(normal_bounds).mean())\n",
    "# Empirical distribution converges to normal in distribution but not in probability\n",
    "\n",
    "print('Average distance in DKW bounds: %.1f' % np.array(distance).mean())\n",
    "print('Average distance in normal bounds: %.1f' % np.array(normal_distance).mean())\n",
    "# normal based band is actually closer to the true distribution"
   ]
  },
  {
   "cell_type": "code",
   "execution_count": 4,
   "metadata": {},
   "outputs": [
    {
     "data": {
      "text/plain": [
       "<matplotlib.legend.Legend at 0x26bbe413eb8>"
      ]
     },
     "execution_count": 4,
     "metadata": {},
     "output_type": "execute_result"
    },
    {
     "data": {
      "image/png": "[encoded data removed]",
      "text/plain": [
       "<Figure size 432x288 with 1 Axes>"
      ]
     },
     "metadata": {
      "needs_background": "light"
     },
     "output_type": "display_data"
    }
   ],
   "source": [
    "# One iteration wtih Cauchy distribution\n",
    "\n",
    "n = 100\n",
    "alpha = 0.05\n",
    "r = cauchy.rvs(size=n)\n",
    "epsilon = math.sqrt((1 / (2 * n)) * math.log(2 / alpha))\n",
    "\n",
    "F_n = lambda x : sum(r < x) / n\n",
    "L_n = lambda x : max(F_n(x) - epsilon, 0)\n",
    "U_n = lambda x : min(F_n(x) + epsilon, 1)\n",
    "\n",
    "xx = sorted(r)\n",
    "\n",
    "df = pd.DataFrame({\n",
    "    'x': xx, \n",
    "    'F_n': np.array(list(map(F_n, xx))), \n",
    "    'U_n': np.array(list(map(U_n, xx))), \n",
    "    'L_n': np.array(list(map(L_n, xx))), \n",
    "    'CDF': np.array(list(map(norm.cdf, xx)))\n",
    "})\n",
    "df['in_bounds'] = (df['U_n'] >= df['CDF']) & (df['CDF'] >= df['L_n'])\n",
    "\n",
    "plt.plot( 'x', 'L_n', data=df, color='red')\n",
    "plt.plot( 'x', 'U_n', data=df, color='green')\n",
    "plt.plot( 'x', 'CDF', data=df, color='purple')\n",
    "plt.legend()"
   ]
  },
  {
   "cell_type": "code",
   "execution_count": 5,
   "metadata": {},
   "outputs": [
    {
     "data": {
      "application/vnd.jupyter.widget-view+json": {
       "model_id": "387ec21b08ed4af59f7c82c865cb8b6f",
       "version_major": 2,
       "version_minor": 0
      },
      "text/plain": [
       "HBox(children=(IntProgress(value=0, max=1000), HTML(value='')))"
      ]
     },
     "metadata": {},
     "output_type": "display_data"
    },
    {
     "name": "stdout",
     "output_type": "stream",
     "text": [
      "\n",
      "Average fraction in bounds: 0.204\n"
     ]
    }
   ],
   "source": [
    "# 1000 iterations with Cauchy distribution\n",
    "\n",
    "bounds = []\n",
    "for k in tqdm_notebook(range(1000)):\n",
    "    n = 100\n",
    "    alpha = 0.05\n",
    "    r = cauchy.rvs(size=n)\n",
    "    epsilon = math.sqrt((1 / (2 * n)) * math.log(2 / alpha))\n",
    "\n",
    "    F_n = lambda x : sum(r < x) / n\n",
    "    L_n = lambda x : max(F_n(x) - epsilon, 0)\n",
    "    U_n = lambda x : min(F_n(x) + epsilon, 1)\n",
    "\n",
    "    # xx = sorted(r)\n",
    "    xx = r # No need to sort without plotting\n",
    "\n",
    "    df = pd.DataFrame({\n",
    "        'x': xx, \n",
    "        'F_n': np.array(list(map(F_n, xx))), \n",
    "        'U_n': np.array(list(map(U_n, xx))), \n",
    "        'L_n': np.array(list(map(L_n, xx))), \n",
    "        'CDF': np.array(list(map(norm.cdf, xx)))\n",
    "    })\n",
    "    all_in_bounds = ((df['U_n'] >= df['CDF']) & (df['CDF'] >= df['L_n'])).all()\n",
    "    bounds.append(all_in_bounds)\n",
    "    \n",
    "print('Average fraction in bounds: %.3f' % np.array(bounds).mean())"
   ]
  },
  {
   "cell_type": "markdown",
   "metadata": {},
   "source": [
    "**Exercise 8.5.4**. Let $X_1, \\dots, X_n \\sim F$ and let $\\hat{F}_n(x)$ be the empirical distribution function.  For a fixed $x$, use the central limit theorem to find the limiting distribution of $\\hat{F}_n(x)$."
   ]
  },
  {
   "cell_type": "markdown",
   "metadata": {},
   "source": [
    "**Solution**.\n",
    "\n",
    "We have:\n",
    "\n",
    "$$\n",
    "\\hat{F_n}(x) = \\frac{\\sum_{i=1}^n I\\left(X_i \\leq x \\right)}{n}\n",
    "$$\n",
    "\n",
    "where\n",
    "\n",
    "$$\n",
    "\\begin{equation}\n",
    "I\\left(X_i \\leq x\\right) =\n",
    "    \\begin{cases}\n",
    "      1   & \\text{if } X_i \\leq x \\\\\n",
    "      0   & \\text{if } X_i > x\n",
    "    \\end{cases}       \n",
    "\\end{equation}\n",
    "$$\n",
    "\n",
    "Let $Y_i = I\\left(X_i \\leq x \\right)$ for some fixed $x$.  From the central limit theorem,\n",
    "\n",
    "$$\n",
    "\\begin{align}\n",
    "\\sqrt{n} (\\overline{Y}_n - \\mu_Y) & \\leadsto N(0, \\sigma_Y^2) \\\\\n",
    "\\overline{Y}_n & \\leadsto N(\\mu_Y, \\sigma_Y^2 / n)\n",
    "\\end{align}\n",
    "$$\n",
    "\n",
    "We can estimate the mean $\\mu_Y$ as $\\mathbb{E}(\\hat{\\mu_Y}) = \\mathbb{E}(\\overline{Y}_n) = n^{-1} \\sum_{i=1}^n \\mathbb{E}(I(X_i \\leq x)) = n^{-1} \\sum_{i=1}^n F(x) = \\hat{F_n}(x)$.\n",
    "\n",
    "We can estimate the variance $\\sigma_Y^2$ as $\\mathbb{E}(\\hat{\\sigma_Y}^2) = \\mathbb{E}(\\mathbb{V}(\\overline{Y}_n)) = n^{-1} \\sum_{i=1}^n \\mathbb{E}((Y_i - \\overline{Y}_n)^2) = n^{-1} \\sum_{i=1}^n \\left( \\mathbb{E}(Y_i^2) - 2 \\mathbb{E}(Y_i \\overline{Y}_n) + \\mathbb{E}(\\overline{Y}_n^2) \\right) \\leq n^{-1} \\sum_{i=1}^n \\left( \\mathbb{E}(Y_i) + \\mathbb{E}(\\overline{Y}_n^2) \\right) \\leq 2$\n",
    "\n",
    "Therefore, for large $n$, the limiting distribution has variance that goes to 0 -- so $\\overline{Y}_n \\leadsto \\mu_Y$, or $I\\left(X_i \\leq x \\right) \\leadsto F(x)$ for every x.  Then,\n",
    "\n",
    "$\\hat{F_n}(x) \\leadsto n^{-1} \\sum_{i=1}^n F(x) = F(x)$,\n",
    "\n",
    "and, as expected, $F$ is the limiting distribution of $F_n$."
   ]
  },
  {
   "cell_type": "markdown",
   "metadata": {},
   "source": [
    "**Exercise 8.5.5**.  Let $x$ and $y$ be two distinct points.  Find $\\text{Cov}(\\hat{F_n}(x), \\hat{F_n}(y))$."
   ]
  },
  {
   "cell_type": "markdown",
   "metadata": {},
   "source": [
    "**Solution**.\n",
    "\n",
    "We have:\n",
    "\n",
    "$$\n",
    "\\begin{align}\n",
    "\\text{Cov}(\\hat{F_n}(x), \\hat{F_n}(y)) & = \\mathbb{E}(\\hat{F_n}(x) \\hat{F_n}(y)) - \\mathbb{E}(\\hat{F_n}(x))\\mathbb{E}(\\hat{F_n}(y)) \\\\\n",
    "&= \\mathbb{E}(\\hat{F_n}(x) \\hat{F_n}(y)) - F(x)F(y)\n",
    "\\end{align}\n",
    "$$\n",
    "\n",
    "But:\n",
    "\n",
    "$$\n",
    "\\hat{F_n}(x) \\hat{F_n}(y) = \\frac{1}{n^2} \\sum_{i=1}^n \\sum_{j=1}^n I(X_i \\leq x) I(X_j \\leq y)\n",
    "$$\n",
    "\n",
    "so\n",
    "\n",
    "$$\n",
    "\\begin{align}\n",
    "\\mathbb{E}(\\hat{F_n}(x) \\hat{F_n}(y)) & = \\frac{1}{n^2} \\sum_{i=1}^n \\sum_{j=1}^n \\mathbb{E}(I(X_i \\leq x) I(X_j \\leq y)) \\\\\n",
    "&= \\frac{1}{n^2} \\sum_{i=1}^n \\sum_{j=1}^n \\mathbb{P}(X_i \\leq x, X_j \\leq y) \\\\\n",
    "&= \\frac{1}{n^2} \\sum_{i=1}^n \\sum_{j=1}^n \\mathbb{P}(X_i \\leq x | X_j \\leq y) \\mathbb{P}(X_j \\leq y) \\\\\n",
    "&= \\frac{1}{n^2} \\left( \\sum_{i=1}^n F(\\min\\{x, y\\}) + \\sum_{i=1}^n \\sum_{j=1, j \\neq i}^n F(x)F(y) \\right) \\\\\n",
    "&= \\frac{1}{n} F(\\min\\{x, y\\}) + \\left( 1 - \\frac{1}{n}\\right) F(x)F(y)\n",
    "\\end{align}\n",
    "$$\n",
    "\n",
    "Therefore, assuming $x \\leq y$,\n",
    "\n",
    "$$\n",
    "\\begin{align}\n",
    "\\text{Cov}(\\hat{F_n}(x), \\hat{F_n}(y)) & = \\mathbb{E}(\\hat{F_n}(x) \\hat{F_n}(y)) - \\mathbb{E}(\\hat{F_n}(x))\\mathbb{E}(\\hat{F_n}(y)) \\\\\n",
    "&= \\mathbb{E}(\\hat{F_n}(x) \\hat{F_n}(y)) - F(x)F(y) \\\\\n",
    "&= \\frac{1}{n} F(\\min\\{x, y\\}) + \\left( 1 - \\frac{1}{n}\\right) F(x)F(y) - F(x)F(y) \\\\\n",
    "&= \\frac{F(x)(1 - F(y))}{n}\n",
    "\\end{align}\n",
    "$$\n"
   ]
  },
  {
   "cell_type": "markdown",
   "metadata": {},
   "source": [
    "**Exercise 8.5.6**.  Let $X_1, \\dots, X_n \\sim F$ and let $\\hat{F}$ be the empirical distribution function.  Let $a < b$ be fixed numbers and define $\\theta = T(F) = F(b) - F(a)$. Let $\\hat{\\theta} = T(\\hat{F}_n) = \\hat{F}_n(b) - \\hat{F}_n(a)$.\n",
    "\n",
    "- Find the estimated standard error of $\\hat{\\theta}$.\n",
    "- Find an expression for an approximate $1 - \\alpha$ confidence interval for $\\theta$."
   ]
  },
  {
   "cell_type": "markdown",
   "metadata": {},
   "source": [
    "**Solution**.\n",
    "\n",
    "**(a)**\n",
    "\n",
    "The estimated mean for $\\hat{\\theta}$ is $\\mathbb{E}(\\hat{\\theta}) = \\mathbb{E}(\\hat{F}_n(b) - \\hat{F}_n(a)) = \\mathbb{E}(\\hat{F}_n(b)) - \\mathbb{E}(\\hat{F}_n(a)) = F(b) - F(a) = \\theta$.\n",
    "\n",
    "The estimated variance for $\\hat{\\theta}$ is\n",
    "\n",
    "$$ \\mathbb{V}(\\hat{\\theta}) = \\mathbb{E}(\\hat{\\theta}^2) - \\mathbb{E}(\\hat{\\theta})^2 $$\n",
    "\n",
    "But\n",
    "\n",
    "$$\n",
    "\\begin{align}\n",
    "\\mathbb{E}(\\hat{\\theta}^2) & = \\mathbb{E}((\\hat{F}_n(b) - \\hat{F}_n(a))^2)  \\\\\n",
    "&= \\mathbb{E}(\\hat{F}_n(a)^2 + \\hat{F}_n(b)^2 - 2 \\hat{F}_n(a)\\hat{F}_n(b)) \\\\\n",
    "&= \\mathbb{E}(\\hat{F}_n(a)^2) + \\mathbb{E}(\\hat{F}_n(b)^2) - 2 \\mathbb{E}(\\hat{F}_n(a)\\hat{F}_n(b))\n",
    "\\end{align}\n",
    "$$\n",
    "\n",
    "$$\n",
    "\\begin{align}\n",
    "\\mathbb{E}(\\hat{F}_n(a)^2) & = \\mathbb{E}\\left(\\left(\\frac{1}{n} \\sum_{i=1}^n I(X_i \\leq a)\\right)^2\\right) \\\\\n",
    "& = \\frac{1}{n^2} \\left(\\sum_{i=1}^n \\mathbb{E} \\left( I(X_i \\leq a)^2 \\right) + \\sum_{i=1}^n \\sum_{j=1, j \\neq i}^n \\mathbb{E}\\left( I(X_i \\leq a) I(X_j \\leq a) \\right) \\right) \\\\\n",
    "& = \\frac{1}{n^2} \\left(\\sum_{i=1}^n \\mathbb{E} \\left( I(X_i \\leq a) \\right) + \\sum_{i=1}^n \\sum_{j=1, j \\neq i}^n \\mathbb{E}\\left( I(X_i \\leq a) I(X_j \\leq a) \\right) \\right) \\\\\n",
    "& = \\frac{1}{n^2} \\left(\\sum_{i=1}^n \\mathbb{P} \\left( X_i \\leq a \\right) + \\sum_{i=1}^n \\sum_{j=1, j \\neq i}^n \\mathbb{P}\\left( X_i \\leq a, X_j \\leq a \\right) \\right) \\\\\n",
    "& = \\frac{1}{n^2} \\left(n F(a) + n(n-1) F(a)^2 \\right) \\\\\n",
    "&= F(a) \\frac{1}{n} + F(a)^2 \\left(1 - \\frac{1}{n} \\right) \\\\\n",
    "\\mathbb{E}(\\hat{F}_n(b)^2) & = F(b) \\frac{1}{n} + F(b)^2 \\left(1 - \\frac{1}{n} \\right)\n",
    "\\end{align}\n",
    "$$\n",
    "\n",
    "From the previous exercise,\n",
    "\n",
    "$$ \\mathbb{E}(\\hat{F}_n(a)\\hat{F}_n(b)) = \\frac{1}{n} F(a) + \\left( 1 - \\frac{1}{n}\\right) F(a)F(b) $$\n",
    "\n",
    "Putting it together,\n",
    "\n",
    "$$ \n",
    "\\begin{align}\n",
    "\\mathbb{E}(\\hat{\\theta}^2) \n",
    "&= \\mathbb{E}(\\hat{F}_n(a)^2) + \\mathbb{E}(\\hat{F}_n(b)^2) - 2 \\mathbb{E}(\\hat{F}_n(a)\\hat{F}_n(b)) \\\\\n",
    "&=   F(a) \\frac{1}{n} + F(a)^2 \\left(1 - \\frac{1}{n} \\right) +  F(b) \\frac{1}{n} + F(b)^2 \\left(1 - \\frac{1}{n} \\right) - 2 \\left( \\frac{1}{n} F(a) + \\left( 1 - \\frac{1}{n}\\right) F(a)F(b) \\right) \\\\\n",
    "&=  \\frac{1}{n} \\left(F(b) - F(a)\\right) + \\left( 1 - \\frac{1}{n}\\right) \\left( F(b) - F(a) \\right)^2 \\\\\n",
    "&=  \\frac{1}{n} \\theta + \\left( 1 - \\frac{1}{n} \\right) \\theta^2 \\\\\n",
    "\\mathbb{V}(\\hat{\\theta}) &=  \\mathbb{E}(\\hat{\\theta}^2) - \\mathbb{E}(\\hat{\\theta})^2 \\\\\n",
    "&=  \\frac{1}{n} \\theta + \\left( 1 - \\frac{1}{n} \\right) \\theta^2 - \\theta^2 \\\\\n",
    "&= \\frac{\\theta (1 - \\theta)}{n} \n",
    "\\end{align}\n",
    "$$\n",
    "\n",
    "Finally, the estimated standard error is\n",
    "\n",
    "$$\\text{se}(\\hat{\\theta}) = \\sqrt{\\mathbb{V}(\\hat{\\theta})} = \\sqrt{\\frac{\\hat{\\theta}(1 - \\hat{\\theta})}{n}}$$\n",
    "\n",
    "**(b)**\n",
    "\n",
    "The Normal based $1 - \\alpha$ confidence interval is\n",
    "\n",
    "$$ \\hat{\\theta} \\pm z_{\\alpha/2}\\text{se}(\\hat{\\theta}) = \\hat{\\theta} \\pm z_{\\alpha/2} \\sqrt{\\frac{\\hat{\\theta}(1 - \\hat{\\theta})}{n}}$$\n",
    "\n",
    "A $1 - \\alpha$ nonparametric interval can be derived by:\n",
    "\n",
    "$$\n",
    "\\begin{align}\n",
    "\\hat{F_n}(b) - \\epsilon_n \\leq F(b) \\leq \\hat{F_n}(b) + \\epsilon_n  \\\\\n",
    "-\\hat{F_n}(a) - \\epsilon_n \\leq F(a) \\leq -\\hat{F_n}(a) + \\epsilon_n  \\\\\n",
    "\\hat{\\theta} - 2\\epsilon_n \\leq \\theta \\leq \\hat{\\theta} + 2\\epsilon_n  \\\\\n",
    "\\epsilon_n = \\sqrt{\\frac{1}{2n} \\log \\left( \\frac{2}{\\alpha} \\right) }\n",
    "\\end{align}\n",
    "$$"
   ]
  },
  {
   "cell_type": "markdown",
   "metadata": {},
   "source": [
    "**Exercise 8.5.7**.  Data on the magnitudes of earthquakes near Fiji are available on the course website.  \n",
    "\n",
    "- Estimate the CDF.\n",
    "- Compute and plot a 95% confidence envelope for F.\n",
    "- Find an approximate 95% confidence interval for F(4.9) - F(4.3)."
   ]
  },
  {
   "cell_type": "code",
   "execution_count": 6,
   "metadata": {},
   "outputs": [],
   "source": [
    "import pandas as pd\n",
    "\n",
    "data = pd.read_csv('data/fijiquakes.csv', sep='\\t')\n",
    "r = np.array(data['mag'])"
   ]
  },
  {
   "cell_type": "code",
   "execution_count": 7,
   "metadata": {},
   "outputs": [
    {
     "data": {
      "text/plain": [
       "<matplotlib.legend.Legend at 0x1d92395f0a0>"
      ]
     },
     "execution_count": 7,
     "metadata": {},
     "output_type": "execute_result"
    },
    {
     "data": {
      "image/png": "[encoded data removed]",
      "text/plain": [
       "<Figure size 432x288 with 1 Axes>"
      ]
     },
     "metadata": {
      "needs_background": "light"
     },
     "output_type": "display_data"
    }
   ],
   "source": [
    "n = len(r)\n",
    "alpha = 0.05\n",
    "epsilon = math.sqrt((1 / (2 * n)) * math.log(2 / alpha))\n",
    "\n",
    "F = lambda x : sum(r < x) / n\n",
    "\n",
    "xx = sorted(r)\n",
    "F_n = np.array(list(map(F, xx)))\n",
    "L_n = np.maximum(F_n - epsilon, 0)\n",
    "U_n = np.minimum(F_n + epsilon, 1)\n",
    "\n",
    "\n",
    "\n",
    "df = pd.DataFrame({\n",
    "    'x': xx, \n",
    "    'F_n': F_n, \n",
    "    'U_n': U_n, \n",
    "    'L_n': L_n\n",
    "})\n",
    "\n",
    "plt.plot( 'x', 'L_n', data=df, color='red')\n",
    "plt.plot( 'x', 'U_n', data=df, color='green')\n",
    "plt.plot( 'x', 'F_n', data=df, color='blue')\n",
    "plt.legend()"
   ]
  },
  {
   "cell_type": "code",
   "execution_count": 8,
   "metadata": {},
   "outputs": [
    {
     "name": "stdout",
     "output_type": "stream",
     "text": [
      "95% normal-based confidence interval: (0.526, 0.588)\n",
      "95% nonparametric confidence interval: (0.471, 0.643)\n"
     ]
    }
   ],
   "source": [
    "# Now to find the confidence interval, using the result from 8.5.6:\n",
    "\n",
    "import math\n",
    "from scipy.stats import norm\n",
    "\n",
    "# normal based CI\n",
    "z_95 = norm.ppf(.975)\n",
    "theta = F(4.9) - F(4.3)\n",
    "se = math.sqrt(theta * (1 - theta) / n)\n",
    "\n",
    "print('95%% normal-based confidence interval: (%.3f, %.3f)' % ((theta - z_95 * se), (theta + z_95 * se)))\n",
    "\n",
    "# nonparametric CI\n",
    "print('95%% nonparametric confidence interval: (%.3f, %.3f)' % ((theta - 2 * epsilon), (theta + 2 * epsilon)))"
   ]
  },
  {
   "cell_type": "markdown",
   "metadata": {},
   "source": [
    "**Exercise 8.5.8**.  Get the data on eruption times and waiting times between eruptions of the old faithful geyser from the course website.\n",
    "\n",
    "- Estimate the mean waiting time and give a standard error for the estimate.\n",
    "- Also, give a 90% confidence interval for the mean waiting time.\n",
    "- Now estimate the median waiting time.\n",
    "\n",
    "In the next chapter we will see how to get the standard error for the median."
   ]
  },
  {
   "cell_type": "code",
   "execution_count": 9,
   "metadata": {},
   "outputs": [],
   "source": [
    "import pandas as pd\n",
    "\n",
    "data = pd.read_csv('data/geysers.csv', sep=',')\n",
    "r = np.array(data['waiting'])\n",
    "n = len(r)"
   ]
  },
  {
   "cell_type": "code",
   "execution_count": 10,
   "metadata": {},
   "outputs": [
    {
     "name": "stdout",
     "output_type": "stream",
     "text": [
      "Estimated mean: 70.897\n",
      "Estimated SE: 0.823\n"
     ]
    }
   ],
   "source": [
    "# Estimate the mean waiting time and give a standard error for the estimate.\n",
    "theta = r.mean()\n",
    "se = r.std()/np.sqrt(n)\n",
    "\n",
    "print(\"Estimated mean: %.3f\" % theta)\n",
    "print(\"Estimated SE: %.3f\" % se)"
   ]
  },
  {
   "cell_type": "code",
   "execution_count": 11,
   "metadata": {},
   "outputs": [
    {
     "name": "stdout",
     "output_type": "stream",
     "text": [
      "90% confidence interval: (69.544, 72.250)\n"
     ]
    }
   ],
   "source": [
    "# Also, give a 90% confidence interval for the mean waiting time.\n",
    "\n",
    "import math\n",
    "from scipy.stats import norm\n",
    "\n",
    "z_90 = norm.ppf(.95)\n",
    "\n",
    "print('90%% confidence interval: (%.3f, %.3f)' % ((theta - z_90 * se), (theta + z_90 * se)))"
   ]
  },
  {
   "cell_type": "code",
   "execution_count": 12,
   "metadata": {},
   "outputs": [
    {
     "name": "stdout",
     "output_type": "stream",
     "text": [
      "Estimated median time: 76.000\n"
     ]
    }
   ],
   "source": [
    "# Now estimate the median time\n",
    "median = np.median(r)\n",
    "\n",
    "print(\"Estimated median time: %.3f\" % median)"
   ]
  },
  {
   "cell_type": "markdown",
   "metadata": {},
   "source": [
    "**Exercise 8.5.9**.  100 people are given a standard antibiotic to treat an infection and another 100 are given a new antibiotic.  In the first group, 90 people recover; in the second group, 85 people recover.  Let $p_1$ be the probability of recovery under the standard treatment, and let $p_2$ be the probability of recovery under the new treatment.  We are interested in estimating $\\theta = p_1 - p_2$.  Provide an estimate, standard error, an 80% confidence interval and a 95% confidence interval for $\\theta$."
   ]
  },
  {
   "cell_type": "markdown",
   "metadata": {},
   "source": [
    "**Solution**. Let $X_1, \\dots, X_100$ be indicator random variables (0 or 1) determining recovery on the first group, and $Y_1, \\dots, Y_100$ indicating recovery on the second group. From the problem formulation, we can assume $X_i \\sim \\text{Bernoulli}(p_1)$ and $Y_i \\sim \\text{Bernoulli}(p_2)$. $n_1 = n_2 = 100$, so we can use $n$ to refer to both.\n",
    "\n",
    "If $\\theta = p_1 - p_2$, then from exercise 8.5.2:\n",
    "\n",
    "$$\\hat{\\theta} = \\hat{p_1} - \\hat{p_2}$$\n",
    "\n",
    "$$\\text{se}(\\hat{\\theta}) = \\sqrt{\\frac{\\hat{p_1}(1 - \\hat{p_1})}{n} + \\frac{\\hat{p_2}(1 - \\hat{p_2})}{n}}$$"
   ]
  },
  {
   "cell_type": "code",
   "execution_count": 2,
   "metadata": {},
   "outputs": [
    {
     "name": "stdout",
     "output_type": "stream",
     "text": [
      "Estimated mean: 0.050\n",
      "Estimated SE: 0.047\n"
     ]
    }
   ],
   "source": [
    "import math\n",
    "\n",
    "p_hat_1 = 0.9\n",
    "p_hat_2 = 0.85\n",
    "n = 100\n",
    "\n",
    "theta_hat = p_hat_1 - p_hat_2\n",
    "se_theta_hat = math.sqrt((p_hat_1 * (1 - p_hat_1) + p_hat_2 * (1 - p_hat_2)) / n)\n",
    "\n",
    "print('Estimated mean: %.3f' % theta_hat)\n",
    "print('Estimated SE: %.3f'   % se_theta_hat)"
   ]
  },
  {
   "cell_type": "code",
   "execution_count": 3,
   "metadata": {},
   "outputs": [
    {
     "name": "stdout",
     "output_type": "stream",
     "text": [
      "80% confidence interval: (-0.010, 0.110)\n",
      "95% confidence interval: (-0.041, 0.141)\n"
     ]
    }
   ],
   "source": [
    "from scipy.stats import norm\n",
    "\n",
    "z_80 = norm.ppf(.9)\n",
    "z_95 = norm.ppf(.975)\n",
    "\n",
    "print('80%% confidence interval: (%.3f, %.3f)' % ((theta_hat - z_80 * se_theta_hat), (theta_hat + z_80 * se_theta_hat)))\n",
    "print('95%% confidence interval: (%.3f, %.3f)' % ((theta_hat - z_95 * se_theta_hat), (theta_hat + z_95 * se_theta_hat)))"
   ]
  },
  {
   "cell_type": "markdown",
   "metadata": {},
   "source": [
    "**Exercise 8.5.10**. In 1975, an experiment was conducted to see if cloud seeding produced rainfall.  26 clouds were seeded with silver nitrate and 26 were not.  The decision to seed or not was made at random.  Get the data from the provided link.\n",
    "\n",
    "Let $\\theta$ be the difference in the median precipitation from the two groups.\n",
    "\n",
    "- Estimate $\\theta$.\n",
    "- Estimate the standard error of the estimate and produce a 95% confidence interval."
   ]
  },
  {
   "cell_type": "code",
   "execution_count": 15,
   "metadata": {},
   "outputs": [],
   "source": [
    "import numpy as np\n",
    "import pandas as pd\n",
    "from tqdm import tqdm_notebook\n",
    "\n",
    "data = pd.read_csv('data/cloud_seeding.csv', sep=',')\n",
    "X = data['Seeded_Clouds']\n",
    "Y = data['Unseeded_Clouds']"
   ]
  },
  {
   "cell_type": "code",
   "execution_count": 16,
   "metadata": {},
   "outputs": [
    {
     "name": "stdout",
     "output_type": "stream",
     "text": [
      "Estimated mean: 177.400\n"
     ]
    }
   ],
   "source": [
    "theta_hat = X.median() - Y.median()\n",
    "\n",
    "print('Estimated mean: %.3f' % theta_hat)"
   ]
  },
  {
   "cell_type": "code",
   "execution_count": 17,
   "metadata": {},
   "outputs": [
    {
     "data": {
      "application/vnd.jupyter.widget-view+json": {
       "model_id": "4e34a3bf799e4c7d9726a3008f898365",
       "version_major": 2,
       "version_minor": 0
      },
      "text/plain": [
       "HBox(children=(IntProgress(value=0, max=10000), HTML(value='')))"
      ]
     },
     "metadata": {},
     "output_type": "display_data"
    },
    {
     "name": "stdout",
     "output_type": "stream",
     "text": [
      "\n",
      "Estimated SE: 62.363\n"
     ]
    }
   ],
   "source": [
    "# Using bootstrap (from chapter 9):\n",
    "\n",
    "nx = len(X)\n",
    "ny = len(Y)\n",
    "\n",
    "B = 10000\n",
    "t_boot = np.zeros(B)\n",
    "for i in tqdm_notebook(range(B)):\n",
    "    xx = X.sample(n=nx, replace=True)\n",
    "    yy = Y.sample(n=ny, replace=True)\n",
    "    t_boot[i] = xx.median() - yy.median()\n",
    "    \n",
    "se = np.array(t_boot).std()\n",
    "\n",
    "print('Estimated SE: %.3f' % se)"
   ]
  },
  {
   "cell_type": "code",
   "execution_count": 18,
   "metadata": {},
   "outputs": [
    {
     "name": "stdout",
     "output_type": "stream",
     "text": [
      "95% confidence interval (Normal): \t 55.171, 299.629\n",
      "95% confidence interval (percentile): \t 37.800, 262.560\n",
      "95% confidence interval (pivotal): \t 92.240, 317.000\n"
     ]
    }
   ],
   "source": [
    "# See example 9.5, page 135\n",
    "\n",
    "from scipy.stats import norm\n",
    "\n",
    "z_95 = norm.ppf(.975)\n",
    "\n",
    "normal_conf = (theta_hat - z_95 * se, theta_hat + z_95 * se)\n",
    "percentile_conf = (np.quantile(t_boot, .025), np.quantile(t_boot, .975))\n",
    "pivotal_conf = (2*theta_hat - np.quantile(t_boot, 0.975), 2*theta_hat - np.quantile(t_boot, .025))\n",
    "\n",
    "print('95%% confidence interval (Normal): \\t %.3f, %.3f' % normal_conf)\n",
    "print('95%% confidence interval (percentile): \\t %.3f, %.3f' % percentile_conf)\n",
    "print('95%% confidence interval (pivotal): \\t %.3f, %.3f' % pivotal_conf)"
   ]
  }
 ],
 "metadata": {
  "kernelspec": {
   "display_name": "Python 3",
   "language": "python",
   "name": "python3"
  },
  "language_info": {
   "codemirror_mode": {
    "name": "ipython",
    "version": 3
   },
   "file_extension": ".py",
   "mimetype": "text/x-python",
   "name": "python",
   "nbconvert_exporter": "python",
   "pygments_lexer": "ipython3",
   "version": "3.8.5"
  }
 },
 "nbformat": 4,
 "nbformat_minor": 2
}
