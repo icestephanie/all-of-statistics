{
 "cells": [
  {
   "cell_type": "markdown",
   "metadata": {},
   "source": [
    "**Exercise 8.5.3**. (Computer Experiment)  Generate 100 observations from a $N(0, 1)$ distribution.  Compute a 95 percent confidence band for the CDF $F$.  Repeat this 1000 times and see how often the confidence band contains the true function.  Repeat using data from a Cauchy distribution."
   ]
  },
  {
   "cell_type": "code",
   "execution_count": 160,
   "metadata": {},
   "outputs": [],
   "source": [
    "import math\n",
    "import numpy as np\n",
    "import pandas as pd\n",
    "from scipy.stats import norm, cauchy, uniform\n",
    "import matplotlib.pyplot as plt\n",
    "from tqdm.notebook import tqdm"
   ]
  },
  {
   "cell_type": "code",
   "execution_count": 167,
   "metadata": {},
   "outputs": [
    {
     "data": {
      "text/plain": [
       "<matplotlib.legend.Legend at 0x1a4a5e48a60>"
      ]
     },
     "execution_count": 167,
     "metadata": {},
     "output_type": "execute_result"
    },
    {
     "data": {
      "image/png": "[encoded data removed]",
      "text/plain": [
       "<Figure size 432x288 with 1 Axes>"
      ]
     },
     "metadata": {
      "needs_background": "light"
     },
     "output_type": "display_data"
    }
   ],
   "source": [
    "# one iteration with Normal distribution\n",
    "\n",
    "n=100\n",
    "alpha=0.05\n",
    "r=norm.rvs(size=n)\n",
    "epsilon=np.sqrt((1/(2*n))*np.log(2/alpha))\n",
    "\n",
    "F=lambda x: sum(r<x)/n\n",
    "xx=sorted(r)\n",
    "F_n=np.array(list(map(F,xx)))\n",
    "L_n=np.maximum(F_n-epsilon,0)\n",
    "U_n=np.minimum(F_n+epsilon,1)\n",
    "CDF=np.array(list(map(norm.cdf,xx)))\n",
    "\n",
    "Sde=np.sqrt((F_n*(1-F_n))/n)\n",
    "NL=F_n+norm.ppf(alpha)*Sde\n",
    "NU=F_n-norm.ppf(alpha)*Sde\n",
    "\n",
    "df=pd.DataFrame({\n",
    "    'x': xx,\n",
    "    'F_n': F_n,\n",
    "    'U_n': U_n,\n",
    "    'L_n': L_n,\n",
    "     'CDF': CDF,\n",
    "    'normal_upper': NU,\n",
    "    'normal_lower': NL\n",
    "})\n",
    "df['in_bounds'] = (df['U_n'] >= df['CDF']) & (df['CDF'] >= df['L_n'])\n",
    "\n",
    "plt.plot('x','L_n',data=df, color='red')\n",
    "plt.plot('x','U_n',data=df,color='green')\n",
    "plt.plot('x','CDF',data=df, color='purple')\n",
    "plt.plot('x','normal_upper',data=df,color='black')\n",
    "plt.plot('x','normal_lower',data=df, color='blue')\n",
    "plt.legend()"
   ]
  },
  {
   "cell_type": "code",
   "execution_count": 203,
   "metadata": {},
   "outputs": [
    {
     "data": {
      "application/vnd.jupyter.widget-view+json": {
       "model_id": "56649addc6224814b2785532d570bb9f",
       "version_major": 2,
       "version_minor": 0
      },
      "text/plain": [
       "HBox(children=(HTML(value=''), FloatProgress(value=0.0, max=1000.0), HTML(value='')))"
      ]
     },
     "metadata": {},
     "output_type": "display_data"
    },
    {
     "name": "stdout",
     "output_type": "stream",
     "text": [
      "\n",
      "Average fraction in DKW bounds: 0.958\n",
      "Average fraction in normal bounds: 0.000\n",
      "Average distance in DKW bounds: 25.3\n",
      "Average distance in normal bounds: 15.6\n"
     ]
    }
   ],
   "source": [
    "# 1000 iterations faster\n",
    "bounds=[]\n",
    "normal_bounds=[]\n",
    "dst=[]\n",
    "normal_dst=[]\n",
    "n=100\n",
    "alpha=0.05\n",
    "epsilon=np.sqrt((1/(2*n))*np.log(2/alpha))\n",
    "\n",
    "for k in tqdm(range(1000)):\n",
    "    r=norm.rvs(size=n)\n",
    "    \n",
    "    F=lambda x: sum(r<x)/n\n",
    "    xx=sorted(r)\n",
    "    F_n=np.array(list(map(F,xx)))\n",
    "    L_n=np.maximum(F_n-epsilon,0)\n",
    "    U_n=np.minimum(F_n+epsilon,1)\n",
    "    CDF=np.array(list(map(norm.cdf,xx)))\n",
    "\n",
    "    Sde=np.sqrt((F_n*(1-F_n))/n)\n",
    "    NL=F_n+norm.ppf(alpha/2)*Sde\n",
    "    NU=F_n-norm.ppf(alpha/2)*Sde\n",
    "\n",
    "    df=pd.DataFrame({\n",
    "        'x': xx,\n",
    "        'F_n': F_n,\n",
    "        'U_n': U_n,\n",
    "        'L_n': L_n,\n",
    "         'CDF': CDF,\n",
    "        'normal_upper': NU,\n",
    "        'normal_lower': NL\n",
    "    })\n",
    "    \n",
    "    all_in_bounds = ((df['U_n']>=df['CDF'])&(df['CDF']>=df['L_n'])).all()\n",
    "    bounds.append(all_in_bounds)\n",
    "    all_in_bounds = ((df['normal_upper']>=df['CDF'])&(df['CDF']>=df['normal_lower'])).all()\n",
    "    normal_bounds.append(all_in_bounds)\n",
    "    \n",
    "    d=sum(abs(CDF-L_n))+sum(abs(CDF-U_n))\n",
    "    dst.append(d)\n",
    "    d=sum(abs(CDF-NL))+sum(abs(CDF-NU))\n",
    "    normal_dst.append(d)\n",
    "\n",
    "print('Average fraction in DKW bounds: %.3f' % np.array(bounds).mean())\n",
    "print('Average fraction in normal bounds: %.3f' % np.array(normal_bounds).mean())\n",
    "\n",
    "print('Average distance in DKW bounds: %.1f' % np.array(dst).mean())\n",
    "print('Average distance in normal bounds: %.1f' % np.array(normal_dst).mean())"
   ]
  },
  {
   "cell_type": "code",
   "execution_count": 168,
   "metadata": {},
   "outputs": [
    {
     "data": {
      "application/vnd.jupyter.widget-view+json": {
       "model_id": "d44d1a0505504099821781df88f6893e",
       "version_major": 2,
       "version_minor": 0
      },
      "text/plain": [
       "HBox(children=(HTML(value=''), FloatProgress(value=0.0, max=1000.0), HTML(value='')))"
      ]
     },
     "metadata": {},
     "output_type": "display_data"
    },
    {
     "name": "stdout",
     "output_type": "stream",
     "text": [
      "\n",
      "Average fraction in bounds: 0.967\n"
     ]
    }
   ],
   "source": [
    "# 1000 iterations original\n",
    "bounds=[]\n",
    "n=100\n",
    "alpha=0.05\n",
    "epsilon=np.sqrt((1/(2*n))*np.log(2/alpha))\n",
    "\n",
    "for k in tqdm(range(1000)):\n",
    "    r=norm.rvs(size=n)\n",
    "    \n",
    "    F_n = lambda x : sum(r < x) / n\n",
    "    L_n = lambda x : max(F_n(x) - epsilon, 0)\n",
    "    U_n = lambda x : min(F_n(x) + epsilon, 1)\n",
    "\n",
    "    # xx = sorted(r)\n",
    "    xx = r # No need to sort without plotting\n",
    "    \n",
    "    df = pd.DataFrame({\n",
    "        'x': xx, \n",
    "        'F_n': np.array(list(map(F_n, xx))), \n",
    "        'U_n': np.array(list(map(U_n, xx))), \n",
    "        'L_n': np.array(list(map(L_n, xx))), \n",
    "        'CDF': np.array(list(map(norm.cdf, xx)))\n",
    "    })\n",
    "    \n",
    "    all_in_bounds = ((df['U_n']>=df['CDF'])&(df['CDF']>=df['L_n'])).all()\n",
    "    bounds.append(all_in_bounds)\n",
    "\n",
    "print('Average fraction in bounds: %.3f' % np.array(bounds).mean())\n",
    "    "
   ]
  },
  {
   "cell_type": "code",
   "execution_count": 73,
   "metadata": {
    "scrolled": true
   },
   "outputs": [
    {
     "data": {
      "text/plain": [
       "<matplotlib.legend.Legend at 0x1a4a4411340>"
      ]
     },
     "execution_count": 73,
     "metadata": {},
     "output_type": "execute_result"
    },
    {
     "data": {
      "image/png": "[encoded data removed]",
      "text/plain": [
       "<Figure size 432x288 with 1 Axes>"
      ]
     },
     "metadata": {
      "needs_background": "light"
     },
     "output_type": "display_data"
    }
   ],
   "source": [
    "# one iteration with Cauchy distribution\n",
    "\n",
    "n=100\n",
    "alpha=0.05\n",
    "r=cauchy.rvs(size=n)\n",
    "epsilon=np.sqrt((1/(2*n))*np.log(2/alpha))\n",
    "\n",
    "F_n=lambda x: sum(r<x)/n\n",
    "L_n=lambda x: max(F_n(x)-epsilon,0)\n",
    "U_n=lambda x: min(F_n(x)+epsilon,1)\n",
    "\n",
    "xx=sorted(r)\n",
    "\n",
    "df=pd.DataFrame({\n",
    "    'x': xx,\n",
    "    'F_n': np.array(list(map(F_n,xx))),\n",
    "    'U_n': np.array(list(map(U_n,xx))),\n",
    "    'L_n': np.array(list(map(L_n,xx))),\n",
    "     'CDF': np.array(list(map(norm.cdf,xx)))   \n",
    "})\n",
    "df['in_bounds'] = (df['U_n'] >= df['CDF']) & (df['CDF'] >= df['L_n'])\n",
    "\n",
    "plt.plot('x','L_n',data=df, color='red')\n",
    "plt.plot('x','U_n',data=df,color='green')\n",
    "plt.plot('x','CDF',data=df, color='blue')\n",
    "plt.legend()"
   ]
  },
  {
   "cell_type": "code",
   "execution_count": 74,
   "metadata": {},
   "outputs": [
    {
     "data": {
      "application/vnd.jupyter.widget-view+json": {
       "model_id": "f0a9dc9e8be04e67ac4736fb5eb348f2",
       "version_major": 2,
       "version_minor": 0
      },
      "text/plain": [
       "HBox(children=(HTML(value=''), FloatProgress(value=0.0, max=1000.0), HTML(value='')))"
      ]
     },
     "metadata": {},
     "output_type": "display_data"
    },
    {
     "name": "stdout",
     "output_type": "stream",
     "text": [
      "\n",
      "Average fraction in bounds: 0.180\n"
     ]
    }
   ],
   "source": [
    "bounds=[]\n",
    "n=100\n",
    "alpha=0.05\n",
    "epsilon=np.sqrt((1/(2*n))*np.log(2/alpha))\n",
    "\n",
    "for k in tqdm(range(1000)):\n",
    "    r=cauchy.rvs(size=n)\n",
    "    \n",
    "    F_n = lambda x : sum(r < x) / n\n",
    "    L_n = lambda x : max(F_n(x) - epsilon, 0)\n",
    "    U_n = lambda x : min(F_n(x) + epsilon, 1)\n",
    "\n",
    "    # xx = sorted(r)\n",
    "    xx = r # No need to sort without plotting\n",
    "    \n",
    "    df = pd.DataFrame({\n",
    "        'x': xx, \n",
    "        'F_n': np.array(list(map(F_n, xx))), \n",
    "        'U_n': np.array(list(map(U_n, xx))), \n",
    "        'L_n': np.array(list(map(L_n, xx))), \n",
    "        'CDF': np.array(list(map(norm.cdf, xx)))\n",
    "    })\n",
    "    \n",
    "    all_in_bounds = ((df['U_n']>=df['CDF'])&(df['CDF']>=df['L_n'])).all()\n",
    "    bounds.append(all_in_bounds)\n",
    "\n",
    "print('Average fraction in bounds: %.3f' % np.array(bounds).mean())\n",
    "    "
   ]
  },
  {
   "cell_type": "markdown",
   "metadata": {},
   "source": [
    "**Exercise 8.5.7**.  Data on the magnitudes of earthquakes near Fiji are available on the course website.  \n",
    "\n",
    "- Estimate the CDF.\n",
    "- Compute and plot a 95% confidence envelope for F.\n",
    "- Find an approximate 95% confidence interval for F(4.9) - F(4.3)."
   ]
  },
  {
   "cell_type": "code",
   "execution_count": 179,
   "metadata": {},
   "outputs": [],
   "source": [
    "import pandas as pd\n",
    "import numpy as np\n",
    "\n",
    "data=pd.read_csv('fijiquakes.csv', sep=',')\n",
    "r=np.array(data['mag'])"
   ]
  },
  {
   "cell_type": "code",
   "execution_count": 150,
   "metadata": {},
   "outputs": [
    {
     "data": {
      "image/png": "[encoded data removed]",
      "text/plain": [
       "<Figure size 432x288 with 1 Axes>"
      ]
     },
     "metadata": {
      "needs_background": "light"
     },
     "output_type": "display_data"
    }
   ],
   "source": [
    "n=len(r)\n",
    "alpha=0.05\n",
    "eps=np.sqrt((1/(2*n))*np.log(2/alpha))\n",
    "\n",
    "F_n=lambda x: sum(r<x)/n\n",
    "L_n=lambda x: max(F_n(x)-eps,0)\n",
    "U_n=lambda x: min(F_n(x)+eps,1)\n",
    "Sde=lambda x: np.sqrt(((sum(r<x)/n)*(1-sum(r<x)/n))/n)\n",
    "NL=lambda x: F_n(x)+norm.ppf(alpha)*Sde(x)\n",
    "NU=lambda x: F_n(x)-norm.ppf(alpha)*Sde(x)\n",
    "\n",
    "xx=sorted(r)\n",
    "\n",
    "df=pd.DataFrame({\n",
    "    'x': xx,\n",
    "    'F_n': np.array(list(map(F_n,xx))),\n",
    "    'U_n': np.array(list(map(U_n,xx))),\n",
    "    'L_n': np.array(list(map(L_n,xx))),\n",
    "    'normal_L': np.array(list(map(NL,xx))),\n",
    "    'normal_U': np.array(list(map(NU,xx)))\n",
    "}\n",
    ")\n",
    "\n",
    "plt.plot('x','F_n', data=df, color='blue')\n",
    "plt.plot('x','U_n',data=df, color='green')\n",
    "plt.plot('x','L_n',data=df, color='red')\n",
    "plt.plot('x','normal_L',data=df,color='purple')\n",
    "plt.plot('x','normal_U',data=df,color='black')\n",
    "plt.legend()\n",
    "plt.show()"
   ]
  },
  {
   "cell_type": "code",
   "execution_count": 180,
   "metadata": {},
   "outputs": [
    {
     "data": {
      "text/plain": [
       "<matplotlib.legend.Legend at 0x1a4a6044fd0>"
      ]
     },
     "execution_count": 180,
     "metadata": {},
     "output_type": "execute_result"
    },
    {
     "data": {
      "image/png": "[encoded data removed]",
      "text/plain": [
       "<Figure size 432x288 with 1 Axes>"
      ]
     },
     "metadata": {
      "needs_background": "light"
     },
     "output_type": "display_data"
    }
   ],
   "source": [
    "#faster\n",
    "\n",
    "n=len(r)\n",
    "alpha=0.05\n",
    "eps=np.sqrt((1/(2*n))*np.log(2/alpha))\n",
    "\n",
    "F=lambda x: sum(r<x)/n\n",
    "\n",
    "xx=np.array(sorted(r))\n",
    "\n",
    "F_n=np.array(list(map(F,xx)))\n",
    "L_n=np.maximum(F_n-eps,0)\n",
    "U_n=np.minimum(F_n+eps,1)\n",
    "Sde=np.sqrt((F_n*(1-F_n))/n)\n",
    "NL=F_n+norm.ppf(alpha/2)*Sde\n",
    "NU=F_n-norm.ppf(alpha/2)*Sde\n",
    "\n",
    "plt.plot(xx,F_n, color='blue', label='Estimated CDF')\n",
    "plt.plot(xx,U_n, color='green', label='DKW Upper Bound')\n",
    "plt.plot(xx,L_n, color='red',label='DKW Lower Bound')\n",
    "plt.plot(xx,NL,color='purple', label='Normal Lower Bound')\n",
    "plt.plot(xx,NU,color='black', label='Normal Upper Bound')\n",
    "plt.legend()"
   ]
  },
  {
   "cell_type": "code",
   "execution_count": 183,
   "metadata": {},
   "outputs": [
    {
     "name": "stdout",
     "output_type": "stream",
     "text": [
      "95% confidence interval: (0.526, 0.588)\n"
     ]
    }
   ],
   "source": [
    "z_95=norm.ppf(1-alpha/2)\n",
    "theta=F(4.9)-F(4.3)\n",
    "se=np.sqrt(theta*(1-theta)/n)\n",
    "u=theta+z_95*se\n",
    "l=theta-z_95*se\n",
    "\n",
    "print('95%% confidence interval: (%.3f, %.3f)' % (l, u))"
   ]
  },
  {
   "cell_type": "markdown",
   "metadata": {},
   "source": [
    "**Exercise 8.5.8**.  Get the data on eruption times and waiting times between eruptions of the old faithful geyser from the course website.\n",
    "\n",
    "- Estimate the mean waiting time and give a standard error for the estimate.\n",
    "- Also, give a 90% confidence interval for the mean waiting time.\n",
    "- Now estimate the median waiting time.\n",
    "\n",
    "In the next chapter we will see how to get the standard error for the median."
   ]
  },
  {
   "cell_type": "code",
   "execution_count": 196,
   "metadata": {},
   "outputs": [
    {
     "name": "stdout",
     "output_type": "stream",
     "text": [
      "Estimated mean: 70.897\n",
      "Estimated SE: 0.823\n"
     ]
    }
   ],
   "source": [
    "data=pd.read_csv('geysers.csv', sep=',')\n",
    "r=np.array(data['waiting'])\n",
    "n=len(r)\n",
    "mu=r.mean()\n",
    "se=r.std()/np.sqrt(n)\n",
    "\n",
    "print(\"Estimated mean: %.3f\" % mu)\n",
    "print(\"Estimated SE: %.3f\" % se)"
   ]
  },
  {
   "cell_type": "code",
   "execution_count": 197,
   "metadata": {},
   "outputs": [
    {
     "name": "stdout",
     "output_type": "stream",
     "text": [
      "90% confidence interval: (69.544,72.250)\n"
     ]
    }
   ],
   "source": [
    "z_90=norm.ppf(.95)\n",
    "u=mu+z_90*se\n",
    "l=mu-z_90*se\n",
    "print('90%% confidence interval: (%.3f,%.3f)' %(l,u))"
   ]
  },
  {
   "cell_type": "code",
   "execution_count": 200,
   "metadata": {},
   "outputs": [
    {
     "name": "stdout",
     "output_type": "stream",
     "text": [
      "estimated median: 76.000\n"
     ]
    }
   ],
   "source": [
    "median=np.median(r)\n",
    "print('estimated median: %.3f' %median)"
   ]
  },
  {
   "cell_type": "markdown",
   "metadata": {},
   "source": [
    "**Exercise 8.5.9**.  100 people are given a standard antibiotic to treat an infection and another 100 are given a new antibiotic.  In the first group, 90 people recover; in the second group, 85 people recover.  Let $p_1$ be the probability of recovery under the standard treatment, and let $p_2$ be the probability of recovery under the new treatment.  We are interested in estimating $\\theta = p_1 - p_2$.  Provide an estimate, standard error, an 80% confidence interval and a 95% confidence interval for $\\theta$."
   ]
  },
  {
   "cell_type": "code",
   "execution_count": 201,
   "metadata": {},
   "outputs": [
    {
     "name": "stdout",
     "output_type": "stream",
     "text": [
      "estimated mean: 0.050\n",
      "standard error: 0.047\n"
     ]
    }
   ],
   "source": [
    "p1=0.9\n",
    "p2=0.85\n",
    "n=100\n",
    "\n",
    "theta=p1-p2\n",
    "se=np.sqrt(p1*(1-p1)/n+p2*(1-p2)/n)\n",
    "\n",
    "print('estimated mean: %.3f' %theta)\n",
    "print('standard error: %.3f' %se)"
   ]
  },
  {
   "cell_type": "code",
   "execution_count": 202,
   "metadata": {},
   "outputs": [
    {
     "name": "stdout",
     "output_type": "stream",
     "text": [
      "80% CI: (-0.010, 0.110)\n",
      "95% CI: (-0.041, 0.141)\n"
     ]
    }
   ],
   "source": [
    "z80=norm.ppf(.9)\n",
    "z95=norm.ppf(.975)\n",
    "\n",
    "print('80%% CI: (%.3f, %.3f)' %(theta-z80*se, theta+z80*se))\n",
    "print('95%% CI: (%.3f, %.3f)' %(theta-z95*se, theta+z95*se))"
   ]
  },
  {
   "cell_type": "markdown",
   "metadata": {},
   "source": [
    "**Exercise 8.5.10**. In 1975, an experiment was conducted to see if cloud seeding produced rainfall.  26 clouds were seeded with silver nitrate and 26 were not.  The decision to seed or not was made at random.  Get the data from the provided link.\n",
    "\n",
    "Let $\\theta$ be the difference in the median precipitation from the two groups.\n",
    "\n",
    "- Estimate $\\theta$.\n",
    "- Estimate the standard error of the estimate and produce a 95% confidence interval."
   ]
  },
  {
   "cell_type": "code",
   "execution_count": null,
   "metadata": {},
   "outputs": [],
   "source": []
  }
 ],
 "metadata": {
  "kernelspec": {
   "display_name": "Python 3",
   "language": "python",
   "name": "python3"
  },
  "language_info": {
   "codemirror_mode": {
    "name": "ipython",
    "version": 3
   },
   "file_extension": ".py",
   "mimetype": "text/x-python",
   "name": "python",
   "nbconvert_exporter": "python",
   "pygments_lexer": "ipython3",
   "version": "3.8.5"
  }
 },
 "nbformat": 4,
 "nbformat_minor": 4
}
