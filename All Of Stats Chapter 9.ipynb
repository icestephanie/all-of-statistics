{
 "cells": [
  {
   "cell_type": "markdown",
   "metadata": {},
   "source": [
    "**Exercise 9.6.1**.  Consider the data in example 9.6.  \n",
    "\n",
    "- Find the plug-in estimate of the correlation coefficient.  \n",
    "- Estimate the standard error using the bootstrap.  \n",
    "- Find a 95% confidence interval using all three methods."
   ]
  },
  {
   "cell_type": "code",
   "execution_count": 1,
   "metadata": {},
   "outputs": [],
   "source": [
    "# Data from example 9.6:\n",
    "\n",
    "LSAT = [576, 635, 558, 578, 666, 580, 555, 661, 651, 605, 653, 575, 545, 572, 594]\n",
    "GPA = [3.39, 3.30, 2.81, 3.03, 3.44, 3.07, 3.00, 3.43, 3.36, 3.13, 3.12, 2.74, 2.76, 2.88, 3.96]"
   ]
  },
  {
   "cell_type": "code",
   "execution_count": 18,
   "metadata": {},
   "outputs": [
    {
     "data": {
      "text/plain": [
       "<AxesSubplot:xlabel='LSAT', ylabel='GPA'>"
      ]
     },
     "execution_count": 18,
     "metadata": {},
     "output_type": "execute_result"
    },
    {
     "data": {
      "image/png": "[encoded data removed]",
      "text/plain": [
       "<Figure size 432x288 with 1 Axes>"
      ]
     },
     "metadata": {
      "needs_background": "light"
     },
     "output_type": "display_data"
    }
   ],
   "source": [
    "import math\n",
    "import numpy as np\n",
    "import pandas as pd\n",
    "from tqdm.notebook import tqdm\n",
    "import matplotlib.pyplot\n",
    "%matplotlib inline\n",
    "\n",
    "df=pd.DataFrame({'LSAT': LSAT, 'GPA': GPA})\n",
    "df.plot.scatter(x='LSAT',y='GPA')"
   ]
  },
  {
   "cell_type": "code",
   "execution_count": 24,
   "metadata": {},
   "outputs": [
    {
     "name": "stdout",
     "output_type": "stream",
     "text": [
      "calculated correlation: 0.5459\n",
      "scipy stats pearson correlation: 0.5459\n"
     ]
    }
   ],
   "source": [
    "# plug in estimate for correlation\n",
    "X=df['LSAT'].to_numpy()\n",
    "Y=df['GPA'].to_numpy()\n",
    "\n",
    "def corr(X, Y):\n",
    "    mu_x=X.mean()\n",
    "    mu_y=Y.mean()\n",
    "    return sum((X-mu_x)*(Y-mu_y)) / math.sqrt(sum((X-mu_x)**2)*sum((Y-mu_y)**2))\n",
    "\n",
    "theta_hat=corr(X,Y)\n",
    "\n",
    "print('calculated correlation: %.4f' %corr(X, Y))\n",
    "\n",
    "from scipy.stats import pearsonr\n",
    "pearson, _ =pearsonr(X,Y)\n",
    "print('scipy stats pearson correlation: %.4f' %pearson)"
   ]
  },
  {
   "cell_type": "code",
   "execution_count": 25,
   "metadata": {},
   "outputs": [
    {
     "data": {
      "application/vnd.jupyter.widget-view+json": {
       "model_id": "00ee993914d64df1ab278c0de0f123d4",
       "version_major": 2,
       "version_minor": 0
      },
      "text/plain": [
       "HBox(children=(HTML(value=''), FloatProgress(value=0.0, max=1000000.0), HTML(value='')))"
      ]
     },
     "metadata": {},
     "output_type": "display_data"
    },
    {
     "name": "stdout",
     "output_type": "stream",
     "text": [
      "\n",
      "estimated se of correlation: 0.2670\n"
     ]
    }
   ],
   "source": [
    "# bootstrap for se of correlation\n",
    "nx=len(X)\n",
    "ny=len(Y)\n",
    "B=1000000\n",
    "t_boot=np.empty(B)\n",
    "for i in tqdm(range(B)):\n",
    "    xx=np.random.choice(X, nx, replace=True)\n",
    "    yy=np.random.choice(Y, ny, replace=True)\n",
    "    t_boot[i]=corr(xx, yy)\n",
    "    \n",
    "se=t_boot.std()\n",
    "print('estimated se of correlation: %.4f' % se)"
   ]
  },
  {
   "cell_type": "code",
   "execution_count": 26,
   "metadata": {},
   "outputs": [
    {
     "name": "stdout",
     "output_type": "stream",
     "text": [
      "95% normal CI: \t 0.023, 1.069\n",
      "95% percentile CI: \t -0.501, 0.523\n",
      "95% pivotal CI: \t 0.569, 1.593\n"
     ]
    }
   ],
   "source": [
    "# CI from 3 methods\n",
    "from scipy.stats import norm\n",
    "\n",
    "z=norm.ppf(.975)\n",
    "\n",
    "normal_ci=(theta_hat-z*se, theta_hat+z*se)\n",
    "percentile_ci=(np.quantile(t_boot, 0.025), np.quantile(t_boot, 0.975))\n",
    "pivot_ci=(2*theta_hat-np.quantile(t_boot,0.975), 2*theta_hat-np.quantile(t_boot, 0.025))\n",
    "\n",
    "print('95%% normal CI: \\t %.3f, %.3f' % normal_ci)\n",
    "print('95%% percentile CI: \\t %.3f, %.3f' % percentile_ci)\n",
    "print('95%% pivotal CI: \\t %.3f, %.3f' % pivot_ci)"
   ]
  },
  {
   "cell_type": "markdown",
   "metadata": {},
   "source": [
    "**Exercise 9.6.2**.  (Computer Experiment).  Conduct a simulation to compare the four bootstrap confidence interval methods.\n",
    "\n",
    "Let $n = 50$ and let $T(F) = \\int (x - \\mu)^3 dF(x) / \\sigma^3$ be the skewness.  Draw $Y_1, \\dots, Y_n \\sim N(0, 1)$ and set $X_i = e^{Y_i}$, $i = 1, \\dots, n$.  Construct the four types of bootstrap 95% intervals for $T(F)$ from the data $X_1, \\dots, X_n$.  Repeat this whole thing many times and estimate the true coverage of the four intervals."
   ]
  },
  {
   "cell_type": "code",
   "execution_count": 68,
   "metadata": {},
   "outputs": [],
   "source": [
    "import numpy as np\n",
    "from tqdm.notebook import tqdm\n",
    "from scipy.stats import norm\n",
    "\n",
    "def create_data(n):\n",
    "    y=norm.rvs(size=n)\n",
    "    return np.exp(y)\n",
    "\n",
    "def skewness(x):\n",
    "    n=len(x)\n",
    "    mu=x.mean()\n",
    "    sd=x.std()\n",
    "    #var=sum((x-mu)**2)/n\n",
    "    return sum((x-mu)**3)/(n*sd**3)\n",
    "    #return sum((x-mu)**3/(n*var**(3/2)))\n",
    "\n",
    "def bootstrap(x, B, show_progress=True):\n",
    "    n=len(x)\n",
    "    t_boot=np.empty(B)\n",
    "    iterable=tqdm(range(B)) if show_progress else range(B)\n",
    "    for i in iterable:\n",
    "        xx=np.random.choice(x,n,replace=True)\n",
    "        t_boot[i]=skewness(xx)\n",
    "    return t_boot\n",
    "\n",
    "def bootstrap_intervals(theta_hat, t_boot, alpha):\n",
    "    se=t_boot.std()\n",
    "    z=norm.ppf(1-alpha/2)\n",
    "    q_l=np.quantile(t_boot, alpha/2)\n",
    "    q_u=np.quantile(t_boot, 1-alpha/2)\n",
    "    \n",
    "    normal_ci=(theta_hat-z*se, theta_hat+z*se)\n",
    "    perc_ci=(q_l, q_u)\n",
    "    pivot_ci=(2*theta_hat-q_u, 2*theta_hat-q_l)\n",
    "    \n",
    "    return normal_ci, perc_ci, pivot_ci"
   ]
  },
  {
   "cell_type": "code",
   "execution_count": 73,
   "metadata": {},
   "outputs": [
    {
     "data": {
      "application/vnd.jupyter.widget-view+json": {
       "model_id": "6c29ec6991c04e6d9e7b44403277031f",
       "version_major": 2,
       "version_minor": 0
      },
      "text/plain": [
       "HBox(children=(HTML(value=''), FloatProgress(value=0.0, max=100000.0), HTML(value='')))"
      ]
     },
     "metadata": {},
     "output_type": "display_data"
    },
    {
     "name": "stdout",
     "output_type": "stream",
     "text": [
      "\n",
      "skewness: \t 2.771\n",
      "95% normal ci: \t 1.981, 3.561\n",
      "95% percentile ci: \t 1.852, 3.449\n",
      "95% pivotal ci: \t 2.093, 3.691\n"
     ]
    }
   ],
   "source": [
    "#creating dataset\n",
    "x=create_data(n=200)\n",
    "\n",
    "#nonparametric bootstrap\n",
    "theta_hat=skewness(x)\n",
    "t_boot=bootstrap(x, B=100000)\n",
    "\n",
    "normal, perc, pivot=bootstrap_intervals(theta_hat, t_boot, alpha=0.05)\n",
    "\n",
    "print('skewness: \\t %.3f' %theta_hat)\n",
    "print('95%% normal ci: \\t %.3f, %.3f' %normal)\n",
    "print('95%% percentile ci: \\t %.3f, %.3f' %perc)\n",
    "print('95%% pivotal ci: \\t %.3f, %.3f' %pivot)"
   ]
  },
  {
   "cell_type": "code",
   "execution_count": 65,
   "metadata": {},
   "outputs": [
    {
     "data": {
      "application/vnd.jupyter.widget-view+json": {
       "model_id": "d3fb3baef28f498185b124d4a8bf8c42",
       "version_major": 2,
       "version_minor": 0
      },
      "text/plain": [
       "HBox(children=(HTML(value=''), FloatProgress(value=0.0, max=10000.0), HTML(value='')))"
      ]
     },
     "metadata": {},
     "output_type": "display_data"
    },
    {
     "name": "stdout",
     "output_type": "stream",
     "text": [
      "\n",
      "mu, sigma: -0.572, 1.250\n",
      "95% parametric ci: \t 4.225, 10.475\n"
     ]
    }
   ],
   "source": [
    "#parametric bootstrap\n",
    "\n",
    "log_x=np.log(x.mean())\n",
    "log_x2=np.log((x**2).mean())\n",
    "mu=4*log_x-log_x2\n",
    "sigma=np.sqrt(log_x2-2*log_x)\n",
    "\n",
    "B=10000\n",
    "n=len(x)\n",
    "t_boot=np.empty(B)\n",
    "for i in tqdm(range(B)):\n",
    "    xx=np.exp(norm.rvs(size=n, loc=mu, scale=sigma))\n",
    "    t_boot[i]=skewness(xx)\n",
    "    \n",
    "se=t_boot.std()\n",
    "\n",
    "print('mu, sigma: %.3f, %.3f' % (mu, sigma))\n",
    "\n",
    "z=norm.ppf(.975)\n",
    "param_ci=(theta_hat-z*se, theta_hat+z*se)\n",
    "print('95%% parametric ci: \\t %.3f, %.3f' % param_ci)"
   ]
  },
  {
   "cell_type": "code",
   "execution_count": 75,
   "metadata": {},
   "outputs": [
    {
     "data": {
      "application/vnd.jupyter.widget-view+json": {
       "model_id": "1788bdddd2374ef8b6ba9e750ed14ed5",
       "version_major": 2,
       "version_minor": 0
      },
      "text/plain": [
       "HBox(children=(HTML(value=''), FloatProgress(value=0.0), HTML(value='')))"
      ]
     },
     "metadata": {},
     "output_type": "display_data"
    },
    {
     "name": "stdout",
     "output_type": "stream",
     "text": [
      "\n",
      "Coverage of normal CI: 0.000\n",
      "Coverage of percentile CI: 0.000\n",
      "Coverage of pivotal CI: 0.000\n"
     ]
    }
   ],
   "source": [
    "# repeat nn=10 times\n",
    "\n",
    "nn=100\n",
    "\n",
    "true_skewness=(np.exp(1)+2)*np.sqrt(np.exp(1)-1)\n",
    "coverage_normalCI=[]\n",
    "coverage_percentileCI=[]\n",
    "coverage_pivotalCI=[]\n",
    "for i in tqdm(range(nn)):\n",
    "    theta_hat=skewness(x)\n",
    "    t_boot_nn=bootstrap(x, B=10000, show_progress=False)\n",
    "    norm_ci, perc_ci, pivot_ci=bootstrap_intervals(theta_hat, t_boot_nn, alpha=.05)\n",
    "    coverage_normalCI.append((norm_ci[1]>=true_skewness) & (true_skewness>=norm_ci[0]))\n",
    "    coverage_percentileCI.append((perc_ci[1]>=true_skewness) & (true_skewness>=perc_ci[0]))\n",
    "    coverage_pivotalCI.append((pivot_ci[1]>=true_skewness) & (true_skewness>=pivot_ci[0]))\n",
    "    \n",
    "    \n",
    "print('Coverage of normal CI: %.3f' %np.array(coverage_normalCI).mean())\n",
    "print('Coverage of percentile CI: %.3f' %np.array(coverage_percentileCI).mean())\n",
    "print('Coverage of pivotal CI: %.3f' %np.array(coverage_pivotalCI).mean())\n"
   ]
  },
  {
   "cell_type": "markdown",
   "metadata": {},
   "source": [
    "**Exercise 9.6.3**.  Let  $X_1, \\dots, X_n \\sim t_3$ where $n = 25$.  Let $\\theta = T(F) = (q_{.75} - q_{.25})/1.34$ where $q_p$ denotes the $p$-th quantile.  Do a simulation to compare the coverage and length of the following confidence intervals for $\\theta$:\n",
    "\n",
    "- Normal interval with standard error from the bootstrap\n",
    "- Bootstrap percentile interval\n",
    "\n",
    "Remark: the jacknife does not give a consistent estimator of the variance of a quantile."
   ]
  },
  {
   "cell_type": "code",
   "execution_count": 76,
   "metadata": {},
   "outputs": [],
   "source": [
    "import numpy as np\n",
    "from scipy.stats import t\n",
    "from tqdm.notebook import tqdm\n",
    "\n",
    "n=25\n",
    "X=t.rvs(3, size=n)\n",
    "\n",
    "def T(x):\n",
    "    return (np.quantile(x, 0.75)-np.quantile(x,0.25)) / 1.34"
   ]
  },
  {
   "cell_type": "code",
   "execution_count": 77,
   "metadata": {},
   "outputs": [],
   "source": [
    "theta_hat=T(X)"
   ]
  },
  {
   "cell_type": "code",
   "execution_count": 79,
   "metadata": {},
   "outputs": [
    {
     "data": {
      "application/vnd.jupyter.widget-view+json": {
       "model_id": "24abb287f63b45c784e367ce157f37a1",
       "version_major": 2,
       "version_minor": 0
      },
      "text/plain": [
       "HBox(children=(HTML(value=''), FloatProgress(value=0.0, max=100000.0), HTML(value='')))"
      ]
     },
     "metadata": {},
     "output_type": "display_data"
    },
    {
     "name": "stdout",
     "output_type": "stream",
     "text": [
      "\n",
      "95% normal CI: \t -0.461, 1.844\n",
      "95% perc CI: \t 0.351, 2.267\n"
     ]
    }
   ],
   "source": [
    "# Run bootstrap\n",
    "B=100000\n",
    "t_boot=np.empty(B)\n",
    "for i in tqdm(range(B)):\n",
    "    xx=np.random.choice(X, n, replace=True)\n",
    "    t_boot[i]=T(xx)\n",
    "    \n",
    "se_boot=t_boot.std()\n",
    "\n",
    "z=norm.ppf(.975)\n",
    "normal_ci=(theta_hat-z*se_boot, theta_hat+z*se_boot)\n",
    "perc_ci=(np.quantile(t_boot,0.025), np.quantile(t_boot, 0.975))\n",
    "\n",
    "print('95%% normal CI: \\t %.3f, %.3f' %normal_ci)\n",
    "print('95%% perc CI: \\t %.3f, %.3f' %perc_ci)"
   ]
  },
  {
   "cell_type": "code",
   "execution_count": null,
   "metadata": {},
   "outputs": [
    {
     "data": {
      "application/vnd.jupyter.widget-view+json": {
       "model_id": "8d2d6498854c4223bfbbe5f2c0608c81",
       "version_major": 2,
       "version_minor": 0
      },
      "text/plain": [
       "HBox(children=(HTML(value=''), FloatProgress(value=0.0, max=10000.0), HTML(value='')))"
      ]
     },
     "metadata": {},
     "output_type": "display_data"
    }
   ],
   "source": [
    "#jacknife\n",
    "\n",
    "def jacknife_se(x):\n",
    "    n=len(x)\n",
    "    t_i=np.empty(n)\n",
    "    for i in range(n):\n",
    "        t_i[i]=T(np.delete(x, i))\n",
    "    return t_i.std()*np.sqrt((n-1)/n)\n",
    "\n",
    "nn=np.arange(10000)\n",
    "se=np.empty(10000)\n",
    "for i in tqdm(nn):\n",
    "    X=t.rvs(3, size=i+2)\n",
    "    se[i]=jacknife_se(X)\n",
    "\n",
    "import matplotlib.pyplot as plt\n",
    "\n",
    "plt.plot(nn, se)\n",
    "    "
   ]
  },
  {
   "cell_type": "markdown",
   "metadata": {},
   "source": [
    "**(a)** $$\n",
    "\\begin{align}\n",
    "\\mathbb{E}(\\overline{X}_n^* | X_1, \\dots, X_n) &= \\mathbb{E}\\left(n^{-1}\\sum_{i=1}^nX_i\\right) = n^{-1}\\sum_{i=1}^n \\mathbb{E}(X_i) = \\mathbb{E}(X)\n",
    "\\end{align}\n",
    "$$"
   ]
  },
  {
   "cell_type": "code",
   "execution_count": null,
   "metadata": {},
   "outputs": [],
   "source": []
  }
 ],
 "metadata": {
  "kernelspec": {
   "display_name": "Python 3",
   "language": "python",
   "name": "python3"
  },
  "language_info": {
   "codemirror_mode": {
    "name": "ipython",
    "version": 3
   },
   "file_extension": ".py",
   "mimetype": "text/x-python",
   "name": "python",
   "nbconvert_exporter": "python",
   "pygments_lexer": "ipython3",
   "version": "3.8.5"
  }
 },
 "nbformat": 4,
 "nbformat_minor": 4
}
